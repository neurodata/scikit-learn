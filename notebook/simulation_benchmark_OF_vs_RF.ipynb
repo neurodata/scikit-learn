{
 "cells": [
  {
   "cell_type": "markdown",
   "metadata": {},
   "source": [
    "# Comparing axis-aligned random forest versus oblique forest on simulation datasets\n",
    "The previous notebook conducted visual analysis using `Iris` dataset. Here we extend our analysis using custom simulation dataset: `sparse_parity`, from which OF demonstrates significant performance improvement over RF. Additionally, we prepared two toy datasets from scikit-learn dataset module, `make_hastie_10_2` and `make_gaussain_quantiles`, that also simulates high-dimentionality problems. OF also outperforms RF on these datasets but in lesser degree."
   ]
  },
  {
   "cell_type": "markdown",
   "metadata": {},
   "source": [
    "### Environment\n",
    "- Python 3.8.13\n",
    "- [Sklearn-Adam's dev branch](https://github.com/neurodata/scikit-learn/tree/obliquepr)"
   ]
  },
  {
   "cell_type": "code",
   "execution_count": 1,
   "metadata": {},
   "outputs": [
    {
     "name": "stdout",
     "output_type": "stream",
     "text": [
      "Python 3.8.13\n"
     ]
    }
   ],
   "source": [
    "!python --version"
   ]
  },
  {
   "cell_type": "markdown",
   "metadata": {},
   "source": [
    "### Import packages"
   ]
  },
  {
   "cell_type": "code",
   "execution_count": 2,
   "metadata": {},
   "outputs": [
    {
     "data": {
      "text/plain": [
       "'1.2.dev0'"
      ]
     },
     "execution_count": 2,
     "metadata": {},
     "output_type": "execute_result"
    }
   ],
   "source": [
    "import sklearn\n",
    "from sklearn.metrics import accuracy_score\n",
    "from sklearn.model_selection import RepeatedKFold, cross_validate\n",
    "from sklearn.datasets import make_hastie_10_2, make_gaussian_quantiles #imported in case of testing\n",
    "from sklearn.ensemble import RandomForestClassifier, ObliqueRandomForestClassifier\n",
    "\n",
    "import os\n",
    "import time\n",
    "import itertools\n",
    "from tqdm import tqdm\n",
    "import _pickle as cPickle\n",
    "from datetime import datetime\n",
    "\n",
    "import numpy as np\n",
    "import pandas as pd\n",
    "import seaborn as sns\n",
    "import matplotlib.pyplot as plt\n",
    "\n",
    "random_state = 123456\n",
    "\n",
    "sklearn.__version__"
   ]
  },
  {
   "cell_type": "code",
   "execution_count": 3,
   "metadata": {},
   "outputs": [
    {
     "data": {
      "text/plain": [
       "'2022-06-29'"
      ]
     },
     "execution_count": 3,
     "metadata": {},
     "output_type": "execute_result"
    }
   ],
   "source": [
    "today = str(datetime.now().date())\n",
    "today"
   ]
  },
  {
   "cell_type": "markdown",
   "metadata": {},
   "source": [
    "### Generating sparse parity simulation data\n",
    "Sparse parity is a variation of the noisy parity problem, which itself is a multivariate generalization of the noisy XOR problem. This is a binary classification task in high dimensions. The simulation will generate uniformly distributed `n_samples` number of sample points in the range of -1 and +1 with `p` number of features. `p*` is a parameter used to limit features that carry information about the class. The informative binary label is then defined as 1 if there are odd number of the sum of data `X` across first `p*` features that are greater than 0, otherwise the label is defined as 0. The simulation is further detailed in our [publication](https://epubs.siam.org/doi/epdf/10.1137/1.9781611974973.56)."
   ]
  },
  {
   "cell_type": "code",
   "execution_count": 4,
   "metadata": {},
   "outputs": [],
   "source": [
    "def sparse_parity(n_samples, p=20, p_star=3, random_seed=None, **kwarg):\n",
    " \n",
    "    if random_seed: \n",
    "        np.random.seed(random_seed)\n",
    "\n",
    "    X = np.random.uniform(-1, 1, (n_samples, p))\n",
    "    y = np.zeros(n_samples)\n",
    "\n",
    "    for i in range(0, n_samples):\n",
    "        y[i] = sum(X[i, :p_star] > 0) % 2;\n",
    "\n",
    "    return X, y"
   ]
  },
  {
   "cell_type": "code",
   "execution_count": 5,
   "metadata": {},
   "outputs": [],
   "source": [
    "def get_sample(func, n, m=None, o=None):\n",
    "    k = {}\n",
    "\n",
    "    np.random.seed(random_state)\n",
    "\n",
    "    if m: k['noise'] = m\n",
    "    if o: k['n_features'] = o\n",
    "\n",
    "    k['n_samples'] = n\n",
    "    k['random_state'] = random_state # random_state for classifiers\n",
    "\n",
    "    X, y = func(**k)\n",
    "\n",
    "    return X, y\n",
    "\n",
    "def get_scores(X, y, max_features, max_depth, random_state, n_cv, n_repeats):\n",
    "\n",
    "    clfs = [\n",
    "        RandomForestClassifier(max_features=max_features, max_depth=max_depth, random_state=random_state),\n",
    "        ObliqueRandomForestClassifier(max_features=max_features, max_depth=max_depth, random_state=random_state)\n",
    "    ]\n",
    "\n",
    "    tmp = []\n",
    "\n",
    "    for i, clf in enumerate(clfs):\n",
    "\n",
    "        # if i == 0 and isinstance(max_features, int):\n",
    "            # if max_features > X.shape[1]:\n",
    "            #     tmp.append(np.zeros(n_cv * n_repeats))\n",
    "            #     continue\n",
    "\n",
    "        cv = RepeatedKFold(n_splits=n_cv, n_repeats=n_repeats, random_state=random_state)\n",
    "        test_score = cross_validate(estimator=clf, X=X, y=y, cv=cv, scoring='accuracy')\n",
    "        \n",
    "        tmp.append(\n",
    "            test_score['test_score']\n",
    "        )\n",
    "\n",
    "    # print(f'max_feature: {max_features} | max_depth: {max_depth}')\n",
    "\n",
    "    return tmp"
   ]
  },
  {
   "cell_type": "code",
   "execution_count": 6,
   "metadata": {},
   "outputs": [
    {
     "data": {
      "text/plain": [
       "((500, 2), (500,), (5000, 3), (5000,))"
      ]
     },
     "execution_count": 6,
     "metadata": {},
     "output_type": "execute_result"
    }
   ],
   "source": [
    "X1,y1 = sparse_parity(n_samples=500,p=2,p_star=2)\n",
    "X2,y2 = sparse_parity(n_samples=5000,p=3,p_star=3)\n",
    "X1.shape, y1.shape, X2.shape, y2.shape"
   ]
  },
  {
   "cell_type": "markdown",
   "metadata": {},
   "source": [
    "### Visualization of sparse parity at low dimension\n",
    "At `p=2`, sparse partiy becomes noisy XOR problem (left). Adding one more dimension makes the 3D XOR problem (right)."
   ]
  },
  {
   "cell_type": "code",
   "execution_count": 7,
   "metadata": {},
   "outputs": [
    {
     "data": {
      "text/plain": [
       "Text(0.5, 0.92, 'Sparse Parity at p=3')"
      ]
     },
     "execution_count": 7,
     "metadata": {},
     "output_type": "execute_result"
    },
    {
     "data": {
      "image/png": "[encoded data removed]",
      "text/plain": [
       "<Figure size 864x432 with 2 Axes>"
      ]
     },
     "metadata": {
      "needs_background": "light"
     },
     "output_type": "display_data"
    }
   ],
   "source": [
    "fig = plt.figure(figsize=(12,6))\n",
    "ax = fig.add_subplot(121)\n",
    "ax.scatter(X1[:,0],X1[:,1], c=y1, cmap='PRGn')\n",
    "ax.set_title('Sparse Parity at p=2')\n",
    "\n",
    "ax = fig.add_subplot(122, projection='3d')\n",
    "ax.scatter(X2[:,0],X2[:,1],X2[:,2], c=y2, cmap='PRGn')\n",
    "ax.set_title('Sparse Parity at p=3')"
   ]
  },
  {
   "cell_type": "code",
   "execution_count": 8,
   "metadata": {},
   "outputs": [],
   "source": [
    "def run_experiment(n_repeat, n_cv, random_state):\n",
    "    n_samples = [100, 1000, 10000]\n",
    "    accs = []\n",
    "    \n",
    "    clf_kwarg = {\n",
    "        'max_features': None,\n",
    "        'max_depth': 10,\n",
    "        'random_state': random_state,\n",
    "        'n_repeats': n_repeat,\n",
    "        'n_cv': n_cv\n",
    "    }\n",
    "\n",
    "    for n_sample in tqdm(n_samples):\n",
    "        data_args = [\n",
    "            # name of dataset, function, n_sample, noise, n_features\n",
    "            ['sparse_parity', sparse_parity, n_sample],\n",
    "\n",
    "            #sklearn toy datasets can also be test by decommenting these lines\n",
    "            # ['make_gaussian_quantiles', make_gaussian_quantiles, n_sample, None, 5], \n",
    "            # ['make_hastie_10_2', make_hastie_10_2, n_sample]\n",
    "        ]\n",
    "\n",
    "        for arg in data_args:\n",
    "            X, y = get_sample(*arg[1:])\n",
    "            \n",
    "            for max_feature in ['sqrt', X.shape[1], X.shape[1]*2]: #max_features\n",
    "                clf_kwarg['max_features'] = max_feature\n",
    "\n",
    "                acc = get_scores(X, y, **clf_kwarg)\n",
    "                accs.append([arg[0], n_sample, n_repeat, max_feature, clf_kwarg['max_depth'], random_state] + acc)\n",
    "\n",
    "    df = pd.DataFrame(accs, columns=['dataset', 'n_sample', 'n_repeat', 'max_feature', 'max_depth', 'random_state', 'RF', 'OF'])\n",
    "    df['delta'] = df.apply(lambda x: x.OF-x.RF, axis=1)\n",
    "\n",
    "    # with open('dat/simulation_notebook_rf_vs_of.pkl', 'wb') as f:\n",
    "    #     cPickle.dump(df, f)\n",
    "\n",
    "    return df"
   ]
  },
  {
   "cell_type": "code",
   "execution_count": 9,
   "metadata": {},
   "outputs": [
    {
     "name": "stderr",
     "output_type": "stream",
     "text": [
      "100%|██████████| 3/3 [01:34<00:00, 31.53s/it]\n"
     ]
    }
   ],
   "source": [
    "df = run_experiment(n_repeat=1, n_cv=3, random_state=random_state)"
   ]
  },
  {
   "cell_type": "code",
   "execution_count": 10,
   "metadata": {},
   "outputs": [
    {
     "data": {
      "text/html": [
       "<div>\n",
       "<style scoped>\n",
       "    .dataframe tbody tr th:only-of-type {\n",
       "        vertical-align: middle;\n",
       "    }\n",
       "\n",
       "    .dataframe tbody tr th {\n",
       "        vertical-align: top;\n",
       "    }\n",
       "\n",
       "    .dataframe thead th {\n",
       "        text-align: right;\n",
       "    }\n",
       "</style>\n",
       "<table border=\"1\" class=\"dataframe\">\n",
       "  <thead>\n",
       "    <tr style=\"text-align: right;\">\n",
       "      <th></th>\n",
       "      <th>dataset</th>\n",
       "      <th>n_sample</th>\n",
       "      <th>max_feature</th>\n",
       "      <th>max_depth</th>\n",
       "      <th>RF</th>\n",
       "      <th>OF</th>\n",
       "      <th>delta</th>\n",
       "    </tr>\n",
       "  </thead>\n",
       "  <tbody>\n",
       "    <tr>\n",
       "      <th>0</th>\n",
       "      <td>sparse_parity</td>\n",
       "      <td>100</td>\n",
       "      <td>sqrt</td>\n",
       "      <td>10</td>\n",
       "      <td>0.441176</td>\n",
       "      <td>0.411765</td>\n",
       "      <td>-0.029412</td>\n",
       "    </tr>\n",
       "    <tr>\n",
       "      <th>0</th>\n",
       "      <td>sparse_parity</td>\n",
       "      <td>100</td>\n",
       "      <td>sqrt</td>\n",
       "      <td>10</td>\n",
       "      <td>0.363636</td>\n",
       "      <td>0.424242</td>\n",
       "      <td>0.060606</td>\n",
       "    </tr>\n",
       "    <tr>\n",
       "      <th>0</th>\n",
       "      <td>sparse_parity</td>\n",
       "      <td>100</td>\n",
       "      <td>sqrt</td>\n",
       "      <td>10</td>\n",
       "      <td>0.333333</td>\n",
       "      <td>0.424242</td>\n",
       "      <td>0.090909</td>\n",
       "    </tr>\n",
       "    <tr>\n",
       "      <th>1</th>\n",
       "      <td>sparse_parity</td>\n",
       "      <td>100</td>\n",
       "      <td>20</td>\n",
       "      <td>10</td>\n",
       "      <td>0.323529</td>\n",
       "      <td>0.294118</td>\n",
       "      <td>-0.029412</td>\n",
       "    </tr>\n",
       "    <tr>\n",
       "      <th>1</th>\n",
       "      <td>sparse_parity</td>\n",
       "      <td>100</td>\n",
       "      <td>20</td>\n",
       "      <td>10</td>\n",
       "      <td>0.424242</td>\n",
       "      <td>0.363636</td>\n",
       "      <td>-0.060606</td>\n",
       "    </tr>\n",
       "  </tbody>\n",
       "</table>\n",
       "</div>"
      ],
      "text/plain": [
       "         dataset  n_sample max_feature  max_depth        RF        OF  \\\n",
       "0  sparse_parity       100        sqrt         10  0.441176  0.411765   \n",
       "0  sparse_parity       100        sqrt         10  0.363636  0.424242   \n",
       "0  sparse_parity       100        sqrt         10  0.333333  0.424242   \n",
       "1  sparse_parity       100          20         10  0.323529  0.294118   \n",
       "1  sparse_parity       100          20         10  0.424242  0.363636   \n",
       "\n",
       "      delta  \n",
       "0 -0.029412  \n",
       "0  0.060606  \n",
       "0  0.090909  \n",
       "1 -0.029412  \n",
       "1 -0.060606  "
      ]
     },
     "execution_count": 10,
     "metadata": {},
     "output_type": "execute_result"
    }
   ],
   "source": [
    "df2 = df.copy()\n",
    "df2['max_depth'] = df2.max_depth.replace(np.nan, 'inf')\n",
    "df2 = df2.explode(['RF','OF','delta'])[['dataset','n_sample','max_feature','max_depth','RF','OF','delta']]\n",
    "df2.head()"
   ]
  },
  {
   "cell_type": "code",
   "execution_count": 11,
   "metadata": {},
   "outputs": [],
   "source": [
    "dset = df2.dataset.unique()\n",
    "max_depth = 10\n",
    "\n",
    "# for i, d in enumerate(dset):\n",
    "#     df_new = df2.query(f'dataset == \"{d}\" and max_depth == {max_depth}')\n",
    "#     n_feature = df_new[~(df_new.max_feature == 'sqrt')].max_feature.min() #minimum numeric max_feature\n",
    "\n",
    "#     df_mf1 = df_new.query(f'max_feature == {n_feature}') #RF max_feature to be compared with OF 2x, 3x max_feature\n",
    "\n",
    "#     for ns in df_mf1.n_sample.unique(): #n_sample\n",
    "#         for mf_not_1 in df_new.max_feature.unique():\n",
    "#             if mf_not_1 in [n_feature, 'sqrt']:\n",
    "#                 continue\n",
    "\n",
    "#             indexing = (df2.dataset==d) & (df2.max_depth==max_depth) & (df2.n_sample==ns) & (df2.max_feature==mf_not_1)\n",
    "#             df2.loc[indexing, ['RF']] = df_mf1.query(f'n_sample == {ns}').RF.tolist()\n",
    "\n",
    "df2['delta'] = df2.apply(lambda x: x.OF-x.RF, axis=1)"
   ]
  },
  {
   "cell_type": "code",
   "execution_count": 12,
   "metadata": {},
   "outputs": [
    {
     "data": {
      "text/html": [
       "<div>\n",
       "<style scoped>\n",
       "    .dataframe tbody tr th:only-of-type {\n",
       "        vertical-align: middle;\n",
       "    }\n",
       "\n",
       "    .dataframe tbody tr th {\n",
       "        vertical-align: top;\n",
       "    }\n",
       "\n",
       "    .dataframe thead th {\n",
       "        text-align: right;\n",
       "    }\n",
       "</style>\n",
       "<table border=\"1\" class=\"dataframe\">\n",
       "  <thead>\n",
       "    <tr style=\"text-align: right;\">\n",
       "      <th></th>\n",
       "      <th>dataset</th>\n",
       "      <th>n_sample</th>\n",
       "      <th>max_feature</th>\n",
       "      <th>max_depth</th>\n",
       "      <th>RF</th>\n",
       "      <th>OF</th>\n",
       "      <th>delta</th>\n",
       "    </tr>\n",
       "  </thead>\n",
       "  <tbody>\n",
       "    <tr>\n",
       "      <th>0</th>\n",
       "      <td>sparse_parity</td>\n",
       "      <td>100</td>\n",
       "      <td>sqrt</td>\n",
       "      <td>10</td>\n",
       "      <td>0.441176</td>\n",
       "      <td>0.411765</td>\n",
       "      <td>-0.029412</td>\n",
       "    </tr>\n",
       "    <tr>\n",
       "      <th>0</th>\n",
       "      <td>sparse_parity</td>\n",
       "      <td>100</td>\n",
       "      <td>sqrt</td>\n",
       "      <td>10</td>\n",
       "      <td>0.363636</td>\n",
       "      <td>0.424242</td>\n",
       "      <td>0.060606</td>\n",
       "    </tr>\n",
       "    <tr>\n",
       "      <th>0</th>\n",
       "      <td>sparse_parity</td>\n",
       "      <td>100</td>\n",
       "      <td>sqrt</td>\n",
       "      <td>10</td>\n",
       "      <td>0.333333</td>\n",
       "      <td>0.424242</td>\n",
       "      <td>0.090909</td>\n",
       "    </tr>\n",
       "    <tr>\n",
       "      <th>1</th>\n",
       "      <td>sparse_parity</td>\n",
       "      <td>100</td>\n",
       "      <td>20</td>\n",
       "      <td>10</td>\n",
       "      <td>0.323529</td>\n",
       "      <td>0.294118</td>\n",
       "      <td>-0.029412</td>\n",
       "    </tr>\n",
       "    <tr>\n",
       "      <th>1</th>\n",
       "      <td>sparse_parity</td>\n",
       "      <td>100</td>\n",
       "      <td>20</td>\n",
       "      <td>10</td>\n",
       "      <td>0.424242</td>\n",
       "      <td>0.363636</td>\n",
       "      <td>-0.060606</td>\n",
       "    </tr>\n",
       "  </tbody>\n",
       "</table>\n",
       "</div>"
      ],
      "text/plain": [
       "         dataset  n_sample max_feature  max_depth        RF        OF  \\\n",
       "0  sparse_parity       100        sqrt         10  0.441176  0.411765   \n",
       "0  sparse_parity       100        sqrt         10  0.363636  0.424242   \n",
       "0  sparse_parity       100        sqrt         10  0.333333  0.424242   \n",
       "1  sparse_parity       100          20         10  0.323529  0.294118   \n",
       "1  sparse_parity       100          20         10  0.424242  0.363636   \n",
       "\n",
       "      delta  \n",
       "0 -0.029412  \n",
       "0  0.060606  \n",
       "0  0.090909  \n",
       "1 -0.029412  \n",
       "1 -0.060606  "
      ]
     },
     "execution_count": 12,
     "metadata": {},
     "output_type": "execute_result"
    }
   ],
   "source": [
    "df2.head()"
   ]
  },
  {
   "cell_type": "markdown",
   "metadata": {},
   "source": [
    "### Base Model Result\n",
    "Three settings of the `max_features` are compared and their corresponding delta accuracy between OF and RF is shown as a box plot. After a meaningful number of data is simulated (i.e., `n_samples` > 10^4), OF starts to outperform RF significantly across all `max_features` settings especially when `max_feature` is greater than or equal to `n_features`.\n",
    "\n",
    "The most likely reason for this is because OF should be more robust to high-dimensional noise. Moreover, due to the ability to sample more variable splits (i.e. `max_features` can be greater than `n_features` compared to RF), then we expect to see an increase in performance when we are willing to use computational power to sample more splits."
   ]
  },
  {
   "cell_type": "code",
   "execution_count": 13,
   "metadata": {},
   "outputs": [
    {
     "data": {
      "image/png": "[encoded data removed]",
      "text/plain": [
       "<Figure size 576x432 with 1 Axes>"
      ]
     },
     "metadata": {
      "needs_background": "light"
     },
     "output_type": "display_data"
    }
   ],
   "source": [
    "dset = df2.dataset.unique() #get the list of dataset loaded\n",
    "\n",
    "ncols = 1\n",
    "\n",
    "fig, ax = plt.subplots(figsize=(8,6))\n",
    "\n",
    "sns.stripplot(data=df2, x='n_sample', y='delta', hue='max_feature', ax=ax, dodge=True)\n",
    "sns.boxplot(data=df2, x='n_sample', y='delta', ax=ax, hue='max_feature', color='white')\n",
    "\n",
    "ax.set_ylabel(r'$\\Delta$ Accuracy (OF - RF)')\n",
    "ax.set_title('Low volume digits data', fontsize=18);\n",
    "ax.axhline(y=0, ls='--', color='black', alpha=0.3);\n",
    "ax.legend([],[], frameon=False);"
   ]
  },
  {
   "cell_type": "code",
   "execution_count": 14,
   "metadata": {},
   "outputs": [
    {
     "data": {
      "image/png": "[encoded data removed]",
      "text/plain": [
       "<Figure size 864x432 with 2 Axes>"
      ]
     },
     "metadata": {
      "needs_background": "light"
     },
     "output_type": "display_data"
    }
   ],
   "source": [
    "fig, ax = plt.subplots(1,2, figsize=(12,6))\n",
    "\n",
    "df_new2 = df2.copy()\n",
    "df_new2.loc[df_new2.max_feature==40,'RF'] = 2 #remove 2x mtry from RF\n",
    "\n",
    "for i, j in enumerate(['RF', 'OF']):\n",
    "    g = sns.boxplot(data=df_new2, x='n_sample', y=j, ax=ax[i], hue='max_feature', color='white')\n",
    "    h = sns.stripplot(data=df_new2, x='n_sample', y=j, ax=ax[i], hue='max_feature', dodge=True)\n",
    "\n",
    "ax[0].set_ylabel(r'Accuracy', fontsize=15)\n",
    "ax[1].set_ylabel('', fontsize=15)\n",
    "ax[0].set_title('Random Forest', fontsize=18);\n",
    "ax[1].set_title('Oblique Forest', fontsize=18);\n",
    "\n",
    "for nc in range(2):\n",
    "    ax[nc].set_ylim(0.28,1.0)\n",
    "    ax[nc].legend([],[], frameon=False) #temp legend fix to remove double legends"
   ]
  },
  {
   "cell_type": "markdown",
   "metadata": {},
   "source": [
    "### Optimized Model Comparison via Grid Searching\n",
    "The following is the optimized result from grid searching best paramters of three features: `max_features`, `n_estimators`, `max_depth`"
   ]
  },
  {
   "cell_type": "code",
   "execution_count": 15,
   "metadata": {},
   "outputs": [],
   "source": [
    "# number of grid searching iteration\n",
    "n_gridCV = 20"
   ]
  },
  {
   "cell_type": "code",
   "execution_count": 16,
   "metadata": {},
   "outputs": [
    {
     "name": "stdout",
     "output_type": "stream",
     "text": [
      "Grid Searching 20 parameter combinations took 1209 seconds for RF algorithm\n",
      "Grid Searching 20 parameter combinations took 1144 seconds for OF algorithm\n"
     ]
    }
   ],
   "source": [
    "from sklearn.model_selection import RandomizedSearchCV\n",
    "\n",
    "params = {\n",
    "    'max_features': ['sqrt', 'log2', None, 40],\n",
    "    'n_estimators': [100, 200, 300],\n",
    "    'max_depth': [5, 10, 20, None]\n",
    "}\n",
    "\n",
    "df_cv = pd.DataFrame()\n",
    "feat_cols = list(params.keys())+['mean_test_score','clf','mean_fit_time',\n",
    "                                'std_fit_time','mean_score_time',\n",
    "                                'std_score_time','params'\n",
    "                                ]\n",
    "clfs = [\n",
    "    RandomForestClassifier(random_state=random_state),\n",
    "    ObliqueRandomForestClassifier(random_state=random_state)\n",
    "]\n",
    "\n",
    "X, y = get_sample(sparse_parity, 10000)\n",
    "\n",
    "for clf, clf_lab in zip(clfs, ['RF', 'OF']):\n",
    "    t_i = time.time()\n",
    "\n",
    "    search = RandomizedSearchCV(estimator=clf, param_distributions=params, n_iter=n_gridCV, random_state=random_state)\n",
    "    search.fit(X, y)\n",
    "    print(f'Grid Searching {n_gridCV} parameter combinations took {int(time.time()-t_i)} seconds for {clf_lab} algorithm')\n",
    "    \n",
    "    df_tmp = pd.DataFrame(search.cv_results_)\n",
    "    df_tmp.columns = [i.replace('param_','') for i in df_tmp.columns]\n",
    "    df_tmp['clf'] = clf_lab\n",
    "    # df_tmp.fillna('None', inplace=True)\n",
    "    df_tmp['mean_test_score'] = df_tmp.apply(lambda x: round(x['mean_test_score'], 3), axis=1)\n",
    "    df_cv = pd.concat([df_cv, df_tmp])"
   ]
  },
  {
   "cell_type": "code",
   "execution_count": 28,
   "metadata": {},
   "outputs": [
    {
     "data": {
      "text/plain": [
       "(10000, 20)"
      ]
     },
     "execution_count": 28,
     "metadata": {},
     "output_type": "execute_result"
    }
   ],
   "source": [
    "X.shape"
   ]
  },
  {
   "cell_type": "markdown",
   "metadata": {},
   "source": [
    "#### Refitting base tree with parameters from each iteration of grid searching"
   ]
  },
  {
   "cell_type": "code",
   "execution_count": 17,
   "metadata": {},
   "outputs": [],
   "source": [
    "def get_tree_size(df, random_state, savefile=True):\n",
    "\n",
    "    N = df.shape[0]\n",
    "    tree_size = []\n",
    "    df.reset_index(drop=True, inplace=True)\n",
    "\n",
    "    t_i = time.time()\n",
    "\n",
    "    for i in range(N):\n",
    "        \n",
    "        row = df.iloc[i,:]\n",
    "\n",
    "        if row['clf'] == 'RF':\n",
    "            clf = RandomForestClassifier(random_state=random_state, **row['params'])\n",
    "        elif row['clf'] == 'OF':\n",
    "            clf = ObliqueRandomForestClassifier(random_state=random_state, **row['params'])\n",
    "        else:\n",
    "            print('Cannot identify estimator')\n",
    "\n",
    "        clf.fit(X,y)\n",
    "        tree_size.append(cPickle.dumps(clf).__sizeof__())\n",
    "\n",
    "    new_df = pd.concat([df, pd.DataFrame(tree_size, columns=['clf_size'])], axis=1)\n",
    "\n",
    "    print(f'Refitting trees took {int(time.time()-t_i)} seconds')\n",
    "\n",
    "    if savefile:\n",
    "        with open('simulation_runtime_output.pkl', 'wb') as handle:\n",
    "            cPickle.dump(new_df, handle)\n",
    "\n",
    "    return new_df"
   ]
  },
  {
   "cell_type": "code",
   "execution_count": 18,
   "metadata": {},
   "outputs": [
    {
     "name": "stdout",
     "output_type": "stream",
     "text": [
      "Refitting trees took 568 seconds\n"
     ]
    }
   ],
   "source": [
    "df_size = get_tree_size(df_cv, random_state=random_state)"
   ]
  },
  {
   "cell_type": "markdown",
   "metadata": {},
   "source": [
    "Converting bytes into MB"
   ]
  },
  {
   "cell_type": "code",
   "execution_count": 36,
   "metadata": {},
   "outputs": [],
   "source": [
    "df_size['clf_size_MB'] = df_size.apply(lambda x: x['clf_size']/10e6, axis=1)"
   ]
  },
  {
   "cell_type": "markdown",
   "metadata": {},
   "source": [
    "#### Plot score versus performance metrics"
   ]
  },
  {
   "cell_type": "code",
   "execution_count": 29,
   "metadata": {},
   "outputs": [],
   "source": [
    "from sklearn.metrics import r2_score\n",
    "from sklearn.preprocessing import PolynomialFeatures\n",
    "from sklearn.linear_model import LinearRegression\n",
    "\n",
    "def bestfit(df, y, x='mean_test_score', clf='RF', degree=1):\n",
    "    dff = df.query(f'clf == \"{clf}\"')\n",
    "\n",
    "    # poly = PolynomialFeatures(degree=degree, include_bias=False)\n",
    "    # poly_features = poly.fit_transform(dff[x].to_numpy().reshape(-1,1))\n",
    "\n",
    "    # model = LinearRegression()\n",
    "    # model.fit(poly_features, dff[y])\n",
    "    # y_hat = model.predict(poly_features)\n",
    "\n",
    "    # return y_hat\n",
    "\n",
    "    y_hat = np.polyfit(dff[x], dff[y], degree)\n",
    "\n",
    "    return np.poly1d(y_hat)"
   ]
  },
  {
   "cell_type": "code",
   "execution_count": 40,
   "metadata": {},
   "outputs": [
    {
     "data": {
      "image/png": "[encoded data removed]",
      "text/plain": [
       "<Figure size 1296x432 with 3 Axes>"
      ]
     },
     "metadata": {
      "needs_background": "light"
     },
     "output_type": "display_data"
    }
   ],
   "source": [
    "fig, ax = plt.subplots(1,3,figsize=(6*3,6))\n",
    "\n",
    "var = {'x': 'mean_test_score',\n",
    "       'y': ['mean_fit_time', 'mean_score_time', 'clf_size_MB'],\n",
    "      }\n",
    "\n",
    "for idx, y_var in enumerate(var['y']):\n",
    "\n",
    "    sns.scatterplot(data=df_size, x=var['x'], y=y_var, hue='clf', ax=ax[idx])\n",
    "    ax[idx].set_xlabel('mean_test_score', fontsize=18)\n",
    "    ax[idx].set_ylabel(y_var, fontsize=18)\n",
    "\n",
    "    for clf in ['RF', 'OF']:\n",
    "        tmp_degree = {}\n",
    "        tmp = df_size.query(f'clf==\"{clf}\"')[var['x']]\n",
    "        qlow, qhigh = np.quantile(tmp,[0.00,1.0])\n",
    "        x = np.linspace(qlow, qhigh, 20)\n",
    "\n",
    "        for degree in [1,2]:\n",
    "            model = bestfit(df=df_size, y=y_var, clf=clf, degree=degree)\n",
    "\n",
    "            tmp_degree[degree] = r2_score(\n",
    "                    y_true=df_size.query(f'clf==\"{clf}\"')[var['x']],\n",
    "                    y_pred=model(x))\n",
    "\n",
    "            # print(f'{tmp_degree[degree]}')\n",
    "\n",
    "        max_idx = max(tmp_degree, key=tmp_degree.get)\n",
    "        model = bestfit(df=df_size, y=y_var, clf=clf, degree=max_idx)\n",
    "        ax[idx].plot(x, model(x))\n",
    "        ax[idx].locator_params(axis='x', nbins=8)\n",
    "\n",
    "        if idx == 2:\n",
    "            ax[idx].set_ylabel('clf_size (MB)')"
   ]
  },
  {
   "cell_type": "markdown",
   "metadata": {},
   "source": [
    "#### Binning Figure\n",
    "The `mean_test_score` is quantized into N number of bins and each corresponding metric variable is plotted with respect to each bin"
   ]
  },
  {
   "cell_type": "code",
   "execution_count": 45,
   "metadata": {},
   "outputs": [],
   "source": [
    "df_cut = pd.cut(df_size['mean_test_score'], 10).to_frame().reset_index(drop=True)\n",
    "df_cut.columns = ['bins']\n",
    "df_bin = pd.concat([df_size, df_cut], axis=1)\n",
    "df_bin['bins_mid'] = df_bin.apply(lambda x: round(x['bins'].mid,2), axis=1)"
   ]
  },
  {
   "cell_type": "code",
   "execution_count": 46,
   "metadata": {},
   "outputs": [
    {
     "data": {
      "image/png": "[encoded data removed]",
      "text/plain": [
       "<Figure size 1728x432 with 4 Axes>"
      ]
     },
     "metadata": {
      "needs_background": "light"
     },
     "output_type": "display_data"
    }
   ],
   "source": [
    "fig, ax = plt.subplots(1,4,figsize=(6*4,6*1));\n",
    "\n",
    "for i, v in enumerate(var['y']):\n",
    "    sns.pointplot(data=df_bin, x='bins_mid', y=v, hue='clf',ax=ax[i]);\n",
    "    \n",
    "sns.histplot(data=df_bin, x='bins_mid', hue='clf',ax=ax[3])\n",
    "\n",
    "for i, l in enumerate(var['y'][:2]+['clf_size (MB)']+[var['x']]):\n",
    "    ax[i].set_xlabel('mean_test_score', fontsize=18)\n",
    "    ax[i].set_ylabel(l,fontsize=18)"
   ]
  },
  {
   "cell_type": "markdown",
   "metadata": {},
   "source": [
    "#### Top 5 `mean_test_score` of each algorithm"
   ]
  },
  {
   "cell_type": "code",
   "execution_count": 21,
   "metadata": {},
   "outputs": [
    {
     "data": {
      "text/html": [
       "<div>\n",
       "<style scoped>\n",
       "    .dataframe tbody tr th:only-of-type {\n",
       "        vertical-align: middle;\n",
       "    }\n",
       "\n",
       "    .dataframe tbody tr th {\n",
       "        vertical-align: top;\n",
       "    }\n",
       "\n",
       "    .dataframe thead th {\n",
       "        text-align: right;\n",
       "    }\n",
       "</style>\n",
       "<table border=\"1\" class=\"dataframe\">\n",
       "  <thead>\n",
       "    <tr style=\"text-align: right;\">\n",
       "      <th></th>\n",
       "      <th>max_features</th>\n",
       "      <th>n_estimators</th>\n",
       "      <th>max_depth</th>\n",
       "      <th>mean_test_score</th>\n",
       "      <th>clf</th>\n",
       "    </tr>\n",
       "  </thead>\n",
       "  <tbody>\n",
       "    <tr>\n",
       "      <th>0</th>\n",
       "      <td>None</td>\n",
       "      <td>300</td>\n",
       "      <td>None</td>\n",
       "      <td>0.886</td>\n",
       "      <td>RF</td>\n",
       "    </tr>\n",
       "    <tr>\n",
       "      <th>1</th>\n",
       "      <td>40</td>\n",
       "      <td>300</td>\n",
       "      <td>None</td>\n",
       "      <td>0.886</td>\n",
       "      <td>RF</td>\n",
       "    </tr>\n",
       "    <tr>\n",
       "      <th>2</th>\n",
       "      <td>40</td>\n",
       "      <td>200</td>\n",
       "      <td>None</td>\n",
       "      <td>0.879</td>\n",
       "      <td>RF</td>\n",
       "    </tr>\n",
       "    <tr>\n",
       "      <th>3</th>\n",
       "      <td>40</td>\n",
       "      <td>300</td>\n",
       "      <td>20</td>\n",
       "      <td>0.873</td>\n",
       "      <td>RF</td>\n",
       "    </tr>\n",
       "    <tr>\n",
       "      <th>4</th>\n",
       "      <td>None</td>\n",
       "      <td>200</td>\n",
       "      <td>20</td>\n",
       "      <td>0.871</td>\n",
       "      <td>RF</td>\n",
       "    </tr>\n",
       "  </tbody>\n",
       "</table>\n",
       "</div>"
      ],
      "text/plain": [
       "  max_features n_estimators max_depth  mean_test_score clf\n",
       "0         None          300      None            0.886  RF\n",
       "1           40          300      None            0.886  RF\n",
       "2           40          200      None            0.879  RF\n",
       "3           40          300        20            0.873  RF\n",
       "4         None          200        20            0.871  RF"
      ]
     },
     "execution_count": 21,
     "metadata": {},
     "output_type": "execute_result"
    }
   ],
   "source": [
    "df_cv_rf = df_cv[feat_cols[:5]].query('clf == \"RF\"').sort_values(by='mean_test_score', ascending=False).reset_index(drop=True)\n",
    "df_cv_rf.head()"
   ]
  },
  {
   "cell_type": "code",
   "execution_count": 22,
   "metadata": {},
   "outputs": [
    {
     "data": {
      "text/html": [
       "<div>\n",
       "<style scoped>\n",
       "    .dataframe tbody tr th:only-of-type {\n",
       "        vertical-align: middle;\n",
       "    }\n",
       "\n",
       "    .dataframe tbody tr th {\n",
       "        vertical-align: top;\n",
       "    }\n",
       "\n",
       "    .dataframe thead th {\n",
       "        text-align: right;\n",
       "    }\n",
       "</style>\n",
       "<table border=\"1\" class=\"dataframe\">\n",
       "  <thead>\n",
       "    <tr style=\"text-align: right;\">\n",
       "      <th></th>\n",
       "      <th>max_features</th>\n",
       "      <th>n_estimators</th>\n",
       "      <th>max_depth</th>\n",
       "      <th>mean_test_score</th>\n",
       "      <th>clf</th>\n",
       "    </tr>\n",
       "  </thead>\n",
       "  <tbody>\n",
       "    <tr>\n",
       "      <th>0</th>\n",
       "      <td>40</td>\n",
       "      <td>300</td>\n",
       "      <td>20</td>\n",
       "      <td>0.998</td>\n",
       "      <td>OF</td>\n",
       "    </tr>\n",
       "    <tr>\n",
       "      <th>1</th>\n",
       "      <td>40</td>\n",
       "      <td>300</td>\n",
       "      <td>None</td>\n",
       "      <td>0.997</td>\n",
       "      <td>OF</td>\n",
       "    </tr>\n",
       "    <tr>\n",
       "      <th>2</th>\n",
       "      <td>40</td>\n",
       "      <td>200</td>\n",
       "      <td>None</td>\n",
       "      <td>0.995</td>\n",
       "      <td>OF</td>\n",
       "    </tr>\n",
       "    <tr>\n",
       "      <th>3</th>\n",
       "      <td>40</td>\n",
       "      <td>100</td>\n",
       "      <td>10</td>\n",
       "      <td>0.975</td>\n",
       "      <td>OF</td>\n",
       "    </tr>\n",
       "    <tr>\n",
       "      <th>4</th>\n",
       "      <td>None</td>\n",
       "      <td>300</td>\n",
       "      <td>None</td>\n",
       "      <td>0.974</td>\n",
       "      <td>OF</td>\n",
       "    </tr>\n",
       "  </tbody>\n",
       "</table>\n",
       "</div>"
      ],
      "text/plain": [
       "  max_features n_estimators max_depth  mean_test_score clf\n",
       "0           40          300        20            0.998  OF\n",
       "1           40          300      None            0.997  OF\n",
       "2           40          200      None            0.995  OF\n",
       "3           40          100        10            0.975  OF\n",
       "4         None          300      None            0.974  OF"
      ]
     },
     "execution_count": 22,
     "metadata": {},
     "output_type": "execute_result"
    }
   ],
   "source": [
    "df_cv_of = df_cv[feat_cols[:5]].query('clf == \"OF\"').sort_values(by='mean_test_score', ascending=False).reset_index(drop=True)\n",
    "df_cv_of.head()"
   ]
  },
  {
   "cell_type": "markdown",
   "metadata": {},
   "source": [
    "### Visualization of parameterized grid search result"
   ]
  },
  {
   "cell_type": "code",
   "execution_count": 31,
   "metadata": {},
   "outputs": [],
   "source": [
    "# Replacing None value as string so it shows on plotly\n",
    "df_cv_rf.fillna('None', inplace=True)\n",
    "df_cv_of.fillna('None', inplace=True)"
   ]
  },
  {
   "cell_type": "code",
   "execution_count": 32,
   "metadata": {},
   "outputs": [
    {
     "data": {
      "text/html": [
       "        <script type=\"text/javascript\">\n",
       "        window.PlotlyConfig = {MathJaxConfig: 'local'};\n",
       "        if (window.MathJax) {MathJax.Hub.Config({SVG: {font: \"STIX-Web\"}});}\n",
       "        if (typeof require !== 'undefined') {\n",
       "        require.undef(\"plotly\");\n",
       "        requirejs.config({\n",
       "            paths: {\n",
       "                'plotly': ['https://cdn.plot.ly/plotly-2.9.0.min']\n",
       "            }\n",
       "        });\n",
       "        require(['plotly'], function(Plotly) {\n",
       "            window._Plotly = Plotly;\n",
       "        });\n",
       "        }\n",
       "        </script>\n",
       "        "
      ]
     },
     "metadata": {},
     "output_type": "display_data"
    },
    {
     "data": {
      "application/vnd.plotly.v1+json": {
       "config": {
        "plotlyServerURL": "https://plot.ly"
       },
       "data": [
        {
         "dimensions": [
          {
           "label": "max_features",
           "values": [
            "None",
            40,
            40,
            40,
            "None",
            "None",
            "None",
            40,
            "None",
            "log2",
            "log2",
            "log2",
            "log2",
            "log2",
            "log2",
            40,
            "None",
            "log2",
            "sqrt",
            "log2"
           ]
          },
          {
           "label": "n_estimators",
           "values": [
            300,
            300,
            200,
            300,
            200,
            100,
            200,
            100,
            100,
            200,
            300,
            100,
            200,
            200,
            300,
            100,
            200,
            100,
            100,
            300
           ]
          },
          {
           "label": "max_depth",
           "values": [
            "None",
            "None",
            "None",
            20,
            20,
            20,
            10,
            10,
            10,
            "None",
            20,
            "None",
            20,
            10,
            10,
            5,
            5,
            5,
            5,
            5
           ]
          },
          {
           "label": "mean_test_score",
           "values": [
            0.886,
            0.886,
            0.879,
            0.873,
            0.871,
            0.848,
            0.766,
            0.763,
            0.763,
            0.739,
            0.725,
            0.721,
            0.716,
            0.597,
            0.59,
            0.578,
            0.575,
            0.518,
            0.518,
            0.518
           ]
          }
         ],
         "domain": {
          "x": [
           0,
           1
          ],
          "y": [
           0,
           1
          ]
         },
         "line": {
          "color": [
           0.886,
           0.886,
           0.879,
           0.873,
           0.871,
           0.848,
           0.766,
           0.763,
           0.763,
           0.739,
           0.725,
           0.721,
           0.716,
           0.597,
           0.59,
           0.578,
           0.575,
           0.518,
           0.518,
           0.518
          ],
          "coloraxis": "coloraxis"
         },
         "name": "",
         "type": "parcats"
        }
       ],
       "layout": {
        "coloraxis": {
         "colorbar": {
          "title": {
           "text": "mean_test_score"
          }
         },
         "colorscale": [
          [
           0,
           "#0d0887"
          ],
          [
           0.1111111111111111,
           "#46039f"
          ],
          [
           0.2222222222222222,
           "#7201a8"
          ],
          [
           0.3333333333333333,
           "#9c179e"
          ],
          [
           0.4444444444444444,
           "#bd3786"
          ],
          [
           0.5555555555555556,
           "#d8576b"
          ],
          [
           0.6666666666666666,
           "#ed7953"
          ],
          [
           0.7777777777777778,
           "#fb9f3a"
          ],
          [
           0.8888888888888888,
           "#fdca26"
          ],
          [
           1,
           "#f0f921"
          ]
         ]
        },
        "legend": {
         "tracegroupgap": 0
        },
        "margin": {
         "t": 60
        },
        "template": {
         "data": {
          "bar": [
           {
            "error_x": {
             "color": "#2a3f5f"
            },
            "error_y": {
             "color": "#2a3f5f"
            },
            "marker": {
             "line": {
              "color": "#E5ECF6",
              "width": 0.5
             },
             "pattern": {
              "fillmode": "overlay",
              "size": 10,
              "solidity": 0.2
             }
            },
            "type": "bar"
           }
          ],
          "barpolar": [
           {
            "marker": {
             "line": {
              "color": "#E5ECF6",
              "width": 0.5
             },
             "pattern": {
              "fillmode": "overlay",
              "size": 10,
              "solidity": 0.2
             }
            },
            "type": "barpolar"
           }
          ],
          "carpet": [
           {
            "aaxis": {
             "endlinecolor": "#2a3f5f",
             "gridcolor": "white",
             "linecolor": "white",
             "minorgridcolor": "white",
             "startlinecolor": "#2a3f5f"
            },
            "baxis": {
             "endlinecolor": "#2a3f5f",
             "gridcolor": "white",
             "linecolor": "white",
             "minorgridcolor": "white",
             "startlinecolor": "#2a3f5f"
            },
            "type": "carpet"
           }
          ],
          "choropleth": [
           {
            "colorbar": {
             "outlinewidth": 0,
             "ticks": ""
            },
            "type": "choropleth"
           }
          ],
          "contour": [
           {
            "colorbar": {
             "outlinewidth": 0,
             "ticks": ""
            },
            "colorscale": [
             [
              0,
              "#0d0887"
             ],
             [
              0.1111111111111111,
              "#46039f"
             ],
             [
              0.2222222222222222,
              "#7201a8"
             ],
             [
              0.3333333333333333,
              "#9c179e"
             ],
             [
              0.4444444444444444,
              "#bd3786"
             ],
             [
              0.5555555555555556,
              "#d8576b"
             ],
             [
              0.6666666666666666,
              "#ed7953"
             ],
             [
              0.7777777777777778,
              "#fb9f3a"
             ],
             [
              0.8888888888888888,
              "#fdca26"
             ],
             [
              1,
              "#f0f921"
             ]
            ],
            "type": "contour"
           }
          ],
          "contourcarpet": [
           {
            "colorbar": {
             "outlinewidth": 0,
             "ticks": ""
            },
            "type": "contourcarpet"
           }
          ],
          "heatmap": [
           {
            "colorbar": {
             "outlinewidth": 0,
             "ticks": ""
            },
            "colorscale": [
             [
              0,
              "#0d0887"
             ],
             [
              0.1111111111111111,
              "#46039f"
             ],
             [
              0.2222222222222222,
              "#7201a8"
             ],
             [
              0.3333333333333333,
              "#9c179e"
             ],
             [
              0.4444444444444444,
              "#bd3786"
             ],
             [
              0.5555555555555556,
              "#d8576b"
             ],
             [
              0.6666666666666666,
              "#ed7953"
             ],
             [
              0.7777777777777778,
              "#fb9f3a"
             ],
             [
              0.8888888888888888,
              "#fdca26"
             ],
             [
              1,
              "#f0f921"
             ]
            ],
            "type": "heatmap"
           }
          ],
          "heatmapgl": [
           {
            "colorbar": {
             "outlinewidth": 0,
             "ticks": ""
            },
            "colorscale": [
             [
              0,
              "#0d0887"
             ],
             [
              0.1111111111111111,
              "#46039f"
             ],
             [
              0.2222222222222222,
              "#7201a8"
             ],
             [
              0.3333333333333333,
              "#9c179e"
             ],
             [
              0.4444444444444444,
              "#bd3786"
             ],
             [
              0.5555555555555556,
              "#d8576b"
             ],
             [
              0.6666666666666666,
              "#ed7953"
             ],
             [
              0.7777777777777778,
              "#fb9f3a"
             ],
             [
              0.8888888888888888,
              "#fdca26"
             ],
             [
              1,
              "#f0f921"
             ]
            ],
            "type": "heatmapgl"
           }
          ],
          "histogram": [
           {
            "marker": {
             "pattern": {
              "fillmode": "overlay",
              "size": 10,
              "solidity": 0.2
             }
            },
            "type": "histogram"
           }
          ],
          "histogram2d": [
           {
            "colorbar": {
             "outlinewidth": 0,
             "ticks": ""
            },
            "colorscale": [
             [
              0,
              "#0d0887"
             ],
             [
              0.1111111111111111,
              "#46039f"
             ],
             [
              0.2222222222222222,
              "#7201a8"
             ],
             [
              0.3333333333333333,
              "#9c179e"
             ],
             [
              0.4444444444444444,
              "#bd3786"
             ],
             [
              0.5555555555555556,
              "#d8576b"
             ],
             [
              0.6666666666666666,
              "#ed7953"
             ],
             [
              0.7777777777777778,
              "#fb9f3a"
             ],
             [
              0.8888888888888888,
              "#fdca26"
             ],
             [
              1,
              "#f0f921"
             ]
            ],
            "type": "histogram2d"
           }
          ],
          "histogram2dcontour": [
           {
            "colorbar": {
             "outlinewidth": 0,
             "ticks": ""
            },
            "colorscale": [
             [
              0,
              "#0d0887"
             ],
             [
              0.1111111111111111,
              "#46039f"
             ],
             [
              0.2222222222222222,
              "#7201a8"
             ],
             [
              0.3333333333333333,
              "#9c179e"
             ],
             [
              0.4444444444444444,
              "#bd3786"
             ],
             [
              0.5555555555555556,
              "#d8576b"
             ],
             [
              0.6666666666666666,
              "#ed7953"
             ],
             [
              0.7777777777777778,
              "#fb9f3a"
             ],
             [
              0.8888888888888888,
              "#fdca26"
             ],
             [
              1,
              "#f0f921"
             ]
            ],
            "type": "histogram2dcontour"
           }
          ],
          "mesh3d": [
           {
            "colorbar": {
             "outlinewidth": 0,
             "ticks": ""
            },
            "type": "mesh3d"
           }
          ],
          "parcoords": [
           {
            "line": {
             "colorbar": {
              "outlinewidth": 0,
              "ticks": ""
             }
            },
            "type": "parcoords"
           }
          ],
          "pie": [
           {
            "automargin": true,
            "type": "pie"
           }
          ],
          "scatter": [
           {
            "marker": {
             "colorbar": {
              "outlinewidth": 0,
              "ticks": ""
             }
            },
            "type": "scatter"
           }
          ],
          "scatter3d": [
           {
            "line": {
             "colorbar": {
              "outlinewidth": 0,
              "ticks": ""
             }
            },
            "marker": {
             "colorbar": {
              "outlinewidth": 0,
              "ticks": ""
             }
            },
            "type": "scatter3d"
           }
          ],
          "scattercarpet": [
           {
            "marker": {
             "colorbar": {
              "outlinewidth": 0,
              "ticks": ""
             }
            },
            "type": "scattercarpet"
           }
          ],
          "scattergeo": [
           {
            "marker": {
             "colorbar": {
              "outlinewidth": 0,
              "ticks": ""
             }
            },
            "type": "scattergeo"
           }
          ],
          "scattergl": [
           {
            "marker": {
             "colorbar": {
              "outlinewidth": 0,
              "ticks": ""
             }
            },
            "type": "scattergl"
           }
          ],
          "scattermapbox": [
           {
            "marker": {
             "colorbar": {
              "outlinewidth": 0,
              "ticks": ""
             }
            },
            "type": "scattermapbox"
           }
          ],
          "scatterpolar": [
           {
            "marker": {
             "colorbar": {
              "outlinewidth": 0,
              "ticks": ""
             }
            },
            "type": "scatterpolar"
           }
          ],
          "scatterpolargl": [
           {
            "marker": {
             "colorbar": {
              "outlinewidth": 0,
              "ticks": ""
             }
            },
            "type": "scatterpolargl"
           }
          ],
          "scatterternary": [
           {
            "marker": {
             "colorbar": {
              "outlinewidth": 0,
              "ticks": ""
             }
            },
            "type": "scatterternary"
           }
          ],
          "surface": [
           {
            "colorbar": {
             "outlinewidth": 0,
             "ticks": ""
            },
            "colorscale": [
             [
              0,
              "#0d0887"
             ],
             [
              0.1111111111111111,
              "#46039f"
             ],
             [
              0.2222222222222222,
              "#7201a8"
             ],
             [
              0.3333333333333333,
              "#9c179e"
             ],
             [
              0.4444444444444444,
              "#bd3786"
             ],
             [
              0.5555555555555556,
              "#d8576b"
             ],
             [
              0.6666666666666666,
              "#ed7953"
             ],
             [
              0.7777777777777778,
              "#fb9f3a"
             ],
             [
              0.8888888888888888,
              "#fdca26"
             ],
             [
              1,
              "#f0f921"
             ]
            ],
            "type": "surface"
           }
          ],
          "table": [
           {
            "cells": {
             "fill": {
              "color": "#EBF0F8"
             },
             "line": {
              "color": "white"
             }
            },
            "header": {
             "fill": {
              "color": "#C8D4E3"
             },
             "line": {
              "color": "white"
             }
            },
            "type": "table"
           }
          ]
         },
         "layout": {
          "annotationdefaults": {
           "arrowcolor": "#2a3f5f",
           "arrowhead": 0,
           "arrowwidth": 1
          },
          "autotypenumbers": "strict",
          "coloraxis": {
           "colorbar": {
            "outlinewidth": 0,
            "ticks": ""
           }
          },
          "colorscale": {
           "diverging": [
            [
             0,
             "#8e0152"
            ],
            [
             0.1,
             "#c51b7d"
            ],
            [
             0.2,
             "#de77ae"
            ],
            [
             0.3,
             "#f1b6da"
            ],
            [
             0.4,
             "#fde0ef"
            ],
            [
             0.5,
             "#f7f7f7"
            ],
            [
             0.6,
             "#e6f5d0"
            ],
            [
             0.7,
             "#b8e186"
            ],
            [
             0.8,
             "#7fbc41"
            ],
            [
             0.9,
             "#4d9221"
            ],
            [
             1,
             "#276419"
            ]
           ],
           "sequential": [
            [
             0,
             "#0d0887"
            ],
            [
             0.1111111111111111,
             "#46039f"
            ],
            [
             0.2222222222222222,
             "#7201a8"
            ],
            [
             0.3333333333333333,
             "#9c179e"
            ],
            [
             0.4444444444444444,
             "#bd3786"
            ],
            [
             0.5555555555555556,
             "#d8576b"
            ],
            [
             0.6666666666666666,
             "#ed7953"
            ],
            [
             0.7777777777777778,
             "#fb9f3a"
            ],
            [
             0.8888888888888888,
             "#fdca26"
            ],
            [
             1,
             "#f0f921"
            ]
           ],
           "sequentialminus": [
            [
             0,
             "#0d0887"
            ],
            [
             0.1111111111111111,
             "#46039f"
            ],
            [
             0.2222222222222222,
             "#7201a8"
            ],
            [
             0.3333333333333333,
             "#9c179e"
            ],
            [
             0.4444444444444444,
             "#bd3786"
            ],
            [
             0.5555555555555556,
             "#d8576b"
            ],
            [
             0.6666666666666666,
             "#ed7953"
            ],
            [
             0.7777777777777778,
             "#fb9f3a"
            ],
            [
             0.8888888888888888,
             "#fdca26"
            ],
            [
             1,
             "#f0f921"
            ]
           ]
          },
          "colorway": [
           "#636efa",
           "#EF553B",
           "#00cc96",
           "#ab63fa",
           "#FFA15A",
           "#19d3f3",
           "#FF6692",
           "#B6E880",
           "#FF97FF",
           "#FECB52"
          ],
          "font": {
           "color": "#2a3f5f"
          },
          "geo": {
           "bgcolor": "white",
           "lakecolor": "white",
           "landcolor": "#E5ECF6",
           "showlakes": true,
           "showland": true,
           "subunitcolor": "white"
          },
          "hoverlabel": {
           "align": "left"
          },
          "hovermode": "closest",
          "mapbox": {
           "style": "light"
          },
          "paper_bgcolor": "white",
          "plot_bgcolor": "#E5ECF6",
          "polar": {
           "angularaxis": {
            "gridcolor": "white",
            "linecolor": "white",
            "ticks": ""
           },
           "bgcolor": "#E5ECF6",
           "radialaxis": {
            "gridcolor": "white",
            "linecolor": "white",
            "ticks": ""
           }
          },
          "scene": {
           "xaxis": {
            "backgroundcolor": "#E5ECF6",
            "gridcolor": "white",
            "gridwidth": 2,
            "linecolor": "white",
            "showbackground": true,
            "ticks": "",
            "zerolinecolor": "white"
           },
           "yaxis": {
            "backgroundcolor": "#E5ECF6",
            "gridcolor": "white",
            "gridwidth": 2,
            "linecolor": "white",
            "showbackground": true,
            "ticks": "",
            "zerolinecolor": "white"
           },
           "zaxis": {
            "backgroundcolor": "#E5ECF6",
            "gridcolor": "white",
            "gridwidth": 2,
            "linecolor": "white",
            "showbackground": true,
            "ticks": "",
            "zerolinecolor": "white"
           }
          },
          "shapedefaults": {
           "line": {
            "color": "#2a3f5f"
           }
          },
          "ternary": {
           "aaxis": {
            "gridcolor": "white",
            "linecolor": "white",
            "ticks": ""
           },
           "baxis": {
            "gridcolor": "white",
            "linecolor": "white",
            "ticks": ""
           },
           "bgcolor": "#E5ECF6",
           "caxis": {
            "gridcolor": "white",
            "linecolor": "white",
            "ticks": ""
           }
          },
          "title": {
           "x": 0.05
          },
          "xaxis": {
           "automargin": true,
           "gridcolor": "white",
           "linecolor": "white",
           "ticks": "",
           "title": {
            "standoff": 15
           },
           "zerolinecolor": "white",
           "zerolinewidth": 2
          },
          "yaxis": {
           "automargin": true,
           "gridcolor": "white",
           "linecolor": "white",
           "ticks": "",
           "title": {
            "standoff": 15
           },
           "zerolinecolor": "white",
           "zerolinewidth": 2
          }
         }
        }
       }
      },
      "text/html": [
       "<div>                            <div id=\"11c86304-4fac-4ee1-a816-9f03494fccaa\" class=\"plotly-graph-div\" style=\"height:525px; width:100%;\"></div>            <script type=\"text/javascript\">                require([\"plotly\"], function(Plotly) {                    window.PLOTLYENV=window.PLOTLYENV || {};                                    if (document.getElementById(\"11c86304-4fac-4ee1-a816-9f03494fccaa\")) {                    Plotly.newPlot(                        \"11c86304-4fac-4ee1-a816-9f03494fccaa\",                        [{\"dimensions\":[{\"label\":\"max_features\",\"values\":[\"None\",40,40,40,\"None\",\"None\",\"None\",40,\"None\",\"log2\",\"log2\",\"log2\",\"log2\",\"log2\",\"log2\",40,\"None\",\"log2\",\"sqrt\",\"log2\"]},{\"label\":\"n_estimators\",\"values\":[300,300,200,300,200,100,200,100,100,200,300,100,200,200,300,100,200,100,100,300]},{\"label\":\"max_depth\",\"values\":[\"None\",\"None\",\"None\",20,20,20,10,10,10,\"None\",20,\"None\",20,10,10,5,5,5,5,5]},{\"label\":\"mean_test_score\",\"values\":[0.886,0.886,0.879,0.873,0.871,0.848,0.766,0.763,0.763,0.739,0.725,0.721,0.716,0.597,0.59,0.578,0.575,0.518,0.518,0.518]}],\"domain\":{\"x\":[0.0,1.0],\"y\":[0.0,1.0]},\"line\":{\"color\":[0.886,0.886,0.879,0.873,0.871,0.848,0.766,0.763,0.763,0.739,0.725,0.721,0.716,0.597,0.59,0.578,0.575,0.518,0.518,0.518],\"coloraxis\":\"coloraxis\"},\"name\":\"\",\"type\":\"parcats\"}],                        {\"template\":{\"data\":{\"bar\":[{\"error_x\":{\"color\":\"#2a3f5f\"},\"error_y\":{\"color\":\"#2a3f5f\"},\"marker\":{\"line\":{\"color\":\"#E5ECF6\",\"width\":0.5},\"pattern\":{\"fillmode\":\"overlay\",\"size\":10,\"solidity\":0.2}},\"type\":\"bar\"}],\"barpolar\":[{\"marker\":{\"line\":{\"color\":\"#E5ECF6\",\"width\":0.5},\"pattern\":{\"fillmode\":\"overlay\",\"size\":10,\"solidity\":0.2}},\"type\":\"barpolar\"}],\"carpet\":[{\"aaxis\":{\"endlinecolor\":\"#2a3f5f\",\"gridcolor\":\"white\",\"linecolor\":\"white\",\"minorgridcolor\":\"white\",\"startlinecolor\":\"#2a3f5f\"},\"baxis\":{\"endlinecolor\":\"#2a3f5f\",\"gridcolor\":\"white\",\"linecolor\":\"white\",\"minorgridcolor\":\"white\",\"startlinecolor\":\"#2a3f5f\"},\"type\":\"carpet\"}],\"choropleth\":[{\"colorbar\":{\"outlinewidth\":0,\"ticks\":\"\"},\"type\":\"choropleth\"}],\"contour\":[{\"colorbar\":{\"outlinewidth\":0,\"ticks\":\"\"},\"colorscale\":[[0.0,\"#0d0887\"],[0.1111111111111111,\"#46039f\"],[0.2222222222222222,\"#7201a8\"],[0.3333333333333333,\"#9c179e\"],[0.4444444444444444,\"#bd3786\"],[0.5555555555555556,\"#d8576b\"],[0.6666666666666666,\"#ed7953\"],[0.7777777777777778,\"#fb9f3a\"],[0.8888888888888888,\"#fdca26\"],[1.0,\"#f0f921\"]],\"type\":\"contour\"}],\"contourcarpet\":[{\"colorbar\":{\"outlinewidth\":0,\"ticks\":\"\"},\"type\":\"contourcarpet\"}],\"heatmap\":[{\"colorbar\":{\"outlinewidth\":0,\"ticks\":\"\"},\"colorscale\":[[0.0,\"#0d0887\"],[0.1111111111111111,\"#46039f\"],[0.2222222222222222,\"#7201a8\"],[0.3333333333333333,\"#9c179e\"],[0.4444444444444444,\"#bd3786\"],[0.5555555555555556,\"#d8576b\"],[0.6666666666666666,\"#ed7953\"],[0.7777777777777778,\"#fb9f3a\"],[0.8888888888888888,\"#fdca26\"],[1.0,\"#f0f921\"]],\"type\":\"heatmap\"}],\"heatmapgl\":[{\"colorbar\":{\"outlinewidth\":0,\"ticks\":\"\"},\"colorscale\":[[0.0,\"#0d0887\"],[0.1111111111111111,\"#46039f\"],[0.2222222222222222,\"#7201a8\"],[0.3333333333333333,\"#9c179e\"],[0.4444444444444444,\"#bd3786\"],[0.5555555555555556,\"#d8576b\"],[0.6666666666666666,\"#ed7953\"],[0.7777777777777778,\"#fb9f3a\"],[0.8888888888888888,\"#fdca26\"],[1.0,\"#f0f921\"]],\"type\":\"heatmapgl\"}],\"histogram\":[{\"marker\":{\"pattern\":{\"fillmode\":\"overlay\",\"size\":10,\"solidity\":0.2}},\"type\":\"histogram\"}],\"histogram2d\":[{\"colorbar\":{\"outlinewidth\":0,\"ticks\":\"\"},\"colorscale\":[[0.0,\"#0d0887\"],[0.1111111111111111,\"#46039f\"],[0.2222222222222222,\"#7201a8\"],[0.3333333333333333,\"#9c179e\"],[0.4444444444444444,\"#bd3786\"],[0.5555555555555556,\"#d8576b\"],[0.6666666666666666,\"#ed7953\"],[0.7777777777777778,\"#fb9f3a\"],[0.8888888888888888,\"#fdca26\"],[1.0,\"#f0f921\"]],\"type\":\"histogram2d\"}],\"histogram2dcontour\":[{\"colorbar\":{\"outlinewidth\":0,\"ticks\":\"\"},\"colorscale\":[[0.0,\"#0d0887\"],[0.1111111111111111,\"#46039f\"],[0.2222222222222222,\"#7201a8\"],[0.3333333333333333,\"#9c179e\"],[0.4444444444444444,\"#bd3786\"],[0.5555555555555556,\"#d8576b\"],[0.6666666666666666,\"#ed7953\"],[0.7777777777777778,\"#fb9f3a\"],[0.8888888888888888,\"#fdca26\"],[1.0,\"#f0f921\"]],\"type\":\"histogram2dcontour\"}],\"mesh3d\":[{\"colorbar\":{\"outlinewidth\":0,\"ticks\":\"\"},\"type\":\"mesh3d\"}],\"parcoords\":[{\"line\":{\"colorbar\":{\"outlinewidth\":0,\"ticks\":\"\"}},\"type\":\"parcoords\"}],\"pie\":[{\"automargin\":true,\"type\":\"pie\"}],\"scatter\":[{\"marker\":{\"colorbar\":{\"outlinewidth\":0,\"ticks\":\"\"}},\"type\":\"scatter\"}],\"scatter3d\":[{\"line\":{\"colorbar\":{\"outlinewidth\":0,\"ticks\":\"\"}},\"marker\":{\"colorbar\":{\"outlinewidth\":0,\"ticks\":\"\"}},\"type\":\"scatter3d\"}],\"scattercarpet\":[{\"marker\":{\"colorbar\":{\"outlinewidth\":0,\"ticks\":\"\"}},\"type\":\"scattercarpet\"}],\"scattergeo\":[{\"marker\":{\"colorbar\":{\"outlinewidth\":0,\"ticks\":\"\"}},\"type\":\"scattergeo\"}],\"scattergl\":[{\"marker\":{\"colorbar\":{\"outlinewidth\":0,\"ticks\":\"\"}},\"type\":\"scattergl\"}],\"scattermapbox\":[{\"marker\":{\"colorbar\":{\"outlinewidth\":0,\"ticks\":\"\"}},\"type\":\"scattermapbox\"}],\"scatterpolar\":[{\"marker\":{\"colorbar\":{\"outlinewidth\":0,\"ticks\":\"\"}},\"type\":\"scatterpolar\"}],\"scatterpolargl\":[{\"marker\":{\"colorbar\":{\"outlinewidth\":0,\"ticks\":\"\"}},\"type\":\"scatterpolargl\"}],\"scatterternary\":[{\"marker\":{\"colorbar\":{\"outlinewidth\":0,\"ticks\":\"\"}},\"type\":\"scatterternary\"}],\"surface\":[{\"colorbar\":{\"outlinewidth\":0,\"ticks\":\"\"},\"colorscale\":[[0.0,\"#0d0887\"],[0.1111111111111111,\"#46039f\"],[0.2222222222222222,\"#7201a8\"],[0.3333333333333333,\"#9c179e\"],[0.4444444444444444,\"#bd3786\"],[0.5555555555555556,\"#d8576b\"],[0.6666666666666666,\"#ed7953\"],[0.7777777777777778,\"#fb9f3a\"],[0.8888888888888888,\"#fdca26\"],[1.0,\"#f0f921\"]],\"type\":\"surface\"}],\"table\":[{\"cells\":{\"fill\":{\"color\":\"#EBF0F8\"},\"line\":{\"color\":\"white\"}},\"header\":{\"fill\":{\"color\":\"#C8D4E3\"},\"line\":{\"color\":\"white\"}},\"type\":\"table\"}]},\"layout\":{\"annotationdefaults\":{\"arrowcolor\":\"#2a3f5f\",\"arrowhead\":0,\"arrowwidth\":1},\"autotypenumbers\":\"strict\",\"coloraxis\":{\"colorbar\":{\"outlinewidth\":0,\"ticks\":\"\"}},\"colorscale\":{\"diverging\":[[0,\"#8e0152\"],[0.1,\"#c51b7d\"],[0.2,\"#de77ae\"],[0.3,\"#f1b6da\"],[0.4,\"#fde0ef\"],[0.5,\"#f7f7f7\"],[0.6,\"#e6f5d0\"],[0.7,\"#b8e186\"],[0.8,\"#7fbc41\"],[0.9,\"#4d9221\"],[1,\"#276419\"]],\"sequential\":[[0.0,\"#0d0887\"],[0.1111111111111111,\"#46039f\"],[0.2222222222222222,\"#7201a8\"],[0.3333333333333333,\"#9c179e\"],[0.4444444444444444,\"#bd3786\"],[0.5555555555555556,\"#d8576b\"],[0.6666666666666666,\"#ed7953\"],[0.7777777777777778,\"#fb9f3a\"],[0.8888888888888888,\"#fdca26\"],[1.0,\"#f0f921\"]],\"sequentialminus\":[[0.0,\"#0d0887\"],[0.1111111111111111,\"#46039f\"],[0.2222222222222222,\"#7201a8\"],[0.3333333333333333,\"#9c179e\"],[0.4444444444444444,\"#bd3786\"],[0.5555555555555556,\"#d8576b\"],[0.6666666666666666,\"#ed7953\"],[0.7777777777777778,\"#fb9f3a\"],[0.8888888888888888,\"#fdca26\"],[1.0,\"#f0f921\"]]},\"colorway\":[\"#636efa\",\"#EF553B\",\"#00cc96\",\"#ab63fa\",\"#FFA15A\",\"#19d3f3\",\"#FF6692\",\"#B6E880\",\"#FF97FF\",\"#FECB52\"],\"font\":{\"color\":\"#2a3f5f\"},\"geo\":{\"bgcolor\":\"white\",\"lakecolor\":\"white\",\"landcolor\":\"#E5ECF6\",\"showlakes\":true,\"showland\":true,\"subunitcolor\":\"white\"},\"hoverlabel\":{\"align\":\"left\"},\"hovermode\":\"closest\",\"mapbox\":{\"style\":\"light\"},\"paper_bgcolor\":\"white\",\"plot_bgcolor\":\"#E5ECF6\",\"polar\":{\"angularaxis\":{\"gridcolor\":\"white\",\"linecolor\":\"white\",\"ticks\":\"\"},\"bgcolor\":\"#E5ECF6\",\"radialaxis\":{\"gridcolor\":\"white\",\"linecolor\":\"white\",\"ticks\":\"\"}},\"scene\":{\"xaxis\":{\"backgroundcolor\":\"#E5ECF6\",\"gridcolor\":\"white\",\"gridwidth\":2,\"linecolor\":\"white\",\"showbackground\":true,\"ticks\":\"\",\"zerolinecolor\":\"white\"},\"yaxis\":{\"backgroundcolor\":\"#E5ECF6\",\"gridcolor\":\"white\",\"gridwidth\":2,\"linecolor\":\"white\",\"showbackground\":true,\"ticks\":\"\",\"zerolinecolor\":\"white\"},\"zaxis\":{\"backgroundcolor\":\"#E5ECF6\",\"gridcolor\":\"white\",\"gridwidth\":2,\"linecolor\":\"white\",\"showbackground\":true,\"ticks\":\"\",\"zerolinecolor\":\"white\"}},\"shapedefaults\":{\"line\":{\"color\":\"#2a3f5f\"}},\"ternary\":{\"aaxis\":{\"gridcolor\":\"white\",\"linecolor\":\"white\",\"ticks\":\"\"},\"baxis\":{\"gridcolor\":\"white\",\"linecolor\":\"white\",\"ticks\":\"\"},\"bgcolor\":\"#E5ECF6\",\"caxis\":{\"gridcolor\":\"white\",\"linecolor\":\"white\",\"ticks\":\"\"}},\"title\":{\"x\":0.05},\"xaxis\":{\"automargin\":true,\"gridcolor\":\"white\",\"linecolor\":\"white\",\"ticks\":\"\",\"title\":{\"standoff\":15},\"zerolinecolor\":\"white\",\"zerolinewidth\":2},\"yaxis\":{\"automargin\":true,\"gridcolor\":\"white\",\"linecolor\":\"white\",\"ticks\":\"\",\"title\":{\"standoff\":15},\"zerolinecolor\":\"white\",\"zerolinewidth\":2}}},\"coloraxis\":{\"colorbar\":{\"title\":{\"text\":\"mean_test_score\"}},\"colorscale\":[[0.0,\"#0d0887\"],[0.1111111111111111,\"#46039f\"],[0.2222222222222222,\"#7201a8\"],[0.3333333333333333,\"#9c179e\"],[0.4444444444444444,\"#bd3786\"],[0.5555555555555556,\"#d8576b\"],[0.6666666666666666,\"#ed7953\"],[0.7777777777777778,\"#fb9f3a\"],[0.8888888888888888,\"#fdca26\"],[1.0,\"#f0f921\"]]},\"legend\":{\"tracegroupgap\":0},\"margin\":{\"t\":60}},                        {\"responsive\": true}                    ).then(function(){\n",
       "                            \n",
       "var gd = document.getElementById('11c86304-4fac-4ee1-a816-9f03494fccaa');\n",
       "var x = new MutationObserver(function (mutations, observer) {{\n",
       "        var display = window.getComputedStyle(gd).display;\n",
       "        if (!display || display === 'none') {{\n",
       "            console.log([gd, 'removed!']);\n",
       "            Plotly.purge(gd);\n",
       "            observer.disconnect();\n",
       "        }}\n",
       "}});\n",
       "\n",
       "// Listen for the removal of the full notebook cells\n",
       "var notebookContainer = gd.closest('#notebook-container');\n",
       "if (notebookContainer) {{\n",
       "    x.observe(notebookContainer, {childList: true});\n",
       "}}\n",
       "\n",
       "// Listen for the clearing of the current output cell\n",
       "var outputEl = gd.closest('.output');\n",
       "if (outputEl) {{\n",
       "    x.observe(outputEl, {childList: true});\n",
       "}}\n",
       "\n",
       "                        })                };                });            </script>        </div>"
      ]
     },
     "metadata": {},
     "output_type": "display_data"
    }
   ],
   "source": [
    "import plotly.express as px\n",
    "import plotly.io as pio\n",
    "\n",
    "pio.renderers.default = \"plotly_mimetype+notebook_connected\"\n",
    "\n",
    "fig = px.parallel_categories(\n",
    "    df_cv_rf.iloc[:,:-1],\n",
    "    color='mean_test_score'\n",
    ")\n",
    "fig.show()"
   ]
  },
  {
   "cell_type": "code",
   "execution_count": 33,
   "metadata": {},
   "outputs": [
    {
     "data": {
      "application/vnd.plotly.v1+json": {
       "config": {
        "plotlyServerURL": "https://plot.ly"
       },
       "data": [
        {
         "dimensions": [
          {
           "label": "max_features",
           "values": [
            40,
            40,
            40,
            40,
            "None",
            "None",
            "None",
            "None",
            "None",
            40,
            "log2",
            "log2",
            "log2",
            "log2",
            "None",
            "log2",
            "log2",
            "log2",
            "sqrt",
            "log2"
           ]
          },
          {
           "label": "n_estimators",
           "values": [
            300,
            300,
            200,
            100,
            300,
            200,
            100,
            200,
            100,
            100,
            300,
            200,
            200,
            100,
            200,
            200,
            300,
            100,
            100,
            300
           ]
          },
          {
           "label": "max_depth",
           "values": [
            20,
            "None",
            "None",
            10,
            "None",
            20,
            20,
            10,
            10,
            5,
            20,
            20,
            "None",
            "None",
            5,
            10,
            10,
            5,
            5,
            5
           ]
          },
          {
           "label": "mean_test_score",
           "values": [
            0.998,
            0.997,
            0.995,
            0.975,
            0.974,
            0.965,
            0.95,
            0.885,
            0.839,
            0.768,
            0.726,
            0.711,
            0.708,
            0.691,
            0.642,
            0.617,
            0.613,
            0.528,
            0.528,
            0.527
           ]
          }
         ],
         "domain": {
          "x": [
           0,
           1
          ],
          "y": [
           0,
           1
          ]
         },
         "line": {
          "color": [
           0.998,
           0.997,
           0.995,
           0.975,
           0.974,
           0.965,
           0.95,
           0.885,
           0.839,
           0.768,
           0.726,
           0.711,
           0.708,
           0.691,
           0.642,
           0.617,
           0.613,
           0.528,
           0.528,
           0.527
          ],
          "coloraxis": "coloraxis"
         },
         "name": "",
         "type": "parcats"
        }
       ],
       "layout": {
        "coloraxis": {
         "colorbar": {
          "title": {
           "text": "mean_test_score"
          }
         },
         "colorscale": [
          [
           0,
           "#0d0887"
          ],
          [
           0.1111111111111111,
           "#46039f"
          ],
          [
           0.2222222222222222,
           "#7201a8"
          ],
          [
           0.3333333333333333,
           "#9c179e"
          ],
          [
           0.4444444444444444,
           "#bd3786"
          ],
          [
           0.5555555555555556,
           "#d8576b"
          ],
          [
           0.6666666666666666,
           "#ed7953"
          ],
          [
           0.7777777777777778,
           "#fb9f3a"
          ],
          [
           0.8888888888888888,
           "#fdca26"
          ],
          [
           1,
           "#f0f921"
          ]
         ]
        },
        "legend": {
         "tracegroupgap": 0
        },
        "margin": {
         "t": 60
        },
        "template": {
         "data": {
          "bar": [
           {
            "error_x": {
             "color": "#2a3f5f"
            },
            "error_y": {
             "color": "#2a3f5f"
            },
            "marker": {
             "line": {
              "color": "#E5ECF6",
              "width": 0.5
             },
             "pattern": {
              "fillmode": "overlay",
              "size": 10,
              "solidity": 0.2
             }
            },
            "type": "bar"
           }
          ],
          "barpolar": [
           {
            "marker": {
             "line": {
              "color": "#E5ECF6",
              "width": 0.5
             },
             "pattern": {
              "fillmode": "overlay",
              "size": 10,
              "solidity": 0.2
             }
            },
            "type": "barpolar"
           }
          ],
          "carpet": [
           {
            "aaxis": {
             "endlinecolor": "#2a3f5f",
             "gridcolor": "white",
             "linecolor": "white",
             "minorgridcolor": "white",
             "startlinecolor": "#2a3f5f"
            },
            "baxis": {
             "endlinecolor": "#2a3f5f",
             "gridcolor": "white",
             "linecolor": "white",
             "minorgridcolor": "white",
             "startlinecolor": "#2a3f5f"
            },
            "type": "carpet"
           }
          ],
          "choropleth": [
           {
            "colorbar": {
             "outlinewidth": 0,
             "ticks": ""
            },
            "type": "choropleth"
           }
          ],
          "contour": [
           {
            "colorbar": {
             "outlinewidth": 0,
             "ticks": ""
            },
            "colorscale": [
             [
              0,
              "#0d0887"
             ],
             [
              0.1111111111111111,
              "#46039f"
             ],
             [
              0.2222222222222222,
              "#7201a8"
             ],
             [
              0.3333333333333333,
              "#9c179e"
             ],
             [
              0.4444444444444444,
              "#bd3786"
             ],
             [
              0.5555555555555556,
              "#d8576b"
             ],
             [
              0.6666666666666666,
              "#ed7953"
             ],
             [
              0.7777777777777778,
              "#fb9f3a"
             ],
             [
              0.8888888888888888,
              "#fdca26"
             ],
             [
              1,
              "#f0f921"
             ]
            ],
            "type": "contour"
           }
          ],
          "contourcarpet": [
           {
            "colorbar": {
             "outlinewidth": 0,
             "ticks": ""
            },
            "type": "contourcarpet"
           }
          ],
          "heatmap": [
           {
            "colorbar": {
             "outlinewidth": 0,
             "ticks": ""
            },
            "colorscale": [
             [
              0,
              "#0d0887"
             ],
             [
              0.1111111111111111,
              "#46039f"
             ],
             [
              0.2222222222222222,
              "#7201a8"
             ],
             [
              0.3333333333333333,
              "#9c179e"
             ],
             [
              0.4444444444444444,
              "#bd3786"
             ],
             [
              0.5555555555555556,
              "#d8576b"
             ],
             [
              0.6666666666666666,
              "#ed7953"
             ],
             [
              0.7777777777777778,
              "#fb9f3a"
             ],
             [
              0.8888888888888888,
              "#fdca26"
             ],
             [
              1,
              "#f0f921"
             ]
            ],
            "type": "heatmap"
           }
          ],
          "heatmapgl": [
           {
            "colorbar": {
             "outlinewidth": 0,
             "ticks": ""
            },
            "colorscale": [
             [
              0,
              "#0d0887"
             ],
             [
              0.1111111111111111,
              "#46039f"
             ],
             [
              0.2222222222222222,
              "#7201a8"
             ],
             [
              0.3333333333333333,
              "#9c179e"
             ],
             [
              0.4444444444444444,
              "#bd3786"
             ],
             [
              0.5555555555555556,
              "#d8576b"
             ],
             [
              0.6666666666666666,
              "#ed7953"
             ],
             [
              0.7777777777777778,
              "#fb9f3a"
             ],
             [
              0.8888888888888888,
              "#fdca26"
             ],
             [
              1,
              "#f0f921"
             ]
            ],
            "type": "heatmapgl"
           }
          ],
          "histogram": [
           {
            "marker": {
             "pattern": {
              "fillmode": "overlay",
              "size": 10,
              "solidity": 0.2
             }
            },
            "type": "histogram"
           }
          ],
          "histogram2d": [
           {
            "colorbar": {
             "outlinewidth": 0,
             "ticks": ""
            },
            "colorscale": [
             [
              0,
              "#0d0887"
             ],
             [
              0.1111111111111111,
              "#46039f"
             ],
             [
              0.2222222222222222,
              "#7201a8"
             ],
             [
              0.3333333333333333,
              "#9c179e"
             ],
             [
              0.4444444444444444,
              "#bd3786"
             ],
             [
              0.5555555555555556,
              "#d8576b"
             ],
             [
              0.6666666666666666,
              "#ed7953"
             ],
             [
              0.7777777777777778,
              "#fb9f3a"
             ],
             [
              0.8888888888888888,
              "#fdca26"
             ],
             [
              1,
              "#f0f921"
             ]
            ],
            "type": "histogram2d"
           }
          ],
          "histogram2dcontour": [
           {
            "colorbar": {
             "outlinewidth": 0,
             "ticks": ""
            },
            "colorscale": [
             [
              0,
              "#0d0887"
             ],
             [
              0.1111111111111111,
              "#46039f"
             ],
             [
              0.2222222222222222,
              "#7201a8"
             ],
             [
              0.3333333333333333,
              "#9c179e"
             ],
             [
              0.4444444444444444,
              "#bd3786"
             ],
             [
              0.5555555555555556,
              "#d8576b"
             ],
             [
              0.6666666666666666,
              "#ed7953"
             ],
             [
              0.7777777777777778,
              "#fb9f3a"
             ],
             [
              0.8888888888888888,
              "#fdca26"
             ],
             [
              1,
              "#f0f921"
             ]
            ],
            "type": "histogram2dcontour"
           }
          ],
          "mesh3d": [
           {
            "colorbar": {
             "outlinewidth": 0,
             "ticks": ""
            },
            "type": "mesh3d"
           }
          ],
          "parcoords": [
           {
            "line": {
             "colorbar": {
              "outlinewidth": 0,
              "ticks": ""
             }
            },
            "type": "parcoords"
           }
          ],
          "pie": [
           {
            "automargin": true,
            "type": "pie"
           }
          ],
          "scatter": [
           {
            "marker": {
             "colorbar": {
              "outlinewidth": 0,
              "ticks": ""
             }
            },
            "type": "scatter"
           }
          ],
          "scatter3d": [
           {
            "line": {
             "colorbar": {
              "outlinewidth": 0,
              "ticks": ""
             }
            },
            "marker": {
             "colorbar": {
              "outlinewidth": 0,
              "ticks": ""
             }
            },
            "type": "scatter3d"
           }
          ],
          "scattercarpet": [
           {
            "marker": {
             "colorbar": {
              "outlinewidth": 0,
              "ticks": ""
             }
            },
            "type": "scattercarpet"
           }
          ],
          "scattergeo": [
           {
            "marker": {
             "colorbar": {
              "outlinewidth": 0,
              "ticks": ""
             }
            },
            "type": "scattergeo"
           }
          ],
          "scattergl": [
           {
            "marker": {
             "colorbar": {
              "outlinewidth": 0,
              "ticks": ""
             }
            },
            "type": "scattergl"
           }
          ],
          "scattermapbox": [
           {
            "marker": {
             "colorbar": {
              "outlinewidth": 0,
              "ticks": ""
             }
            },
            "type": "scattermapbox"
           }
          ],
          "scatterpolar": [
           {
            "marker": {
             "colorbar": {
              "outlinewidth": 0,
              "ticks": ""
             }
            },
            "type": "scatterpolar"
           }
          ],
          "scatterpolargl": [
           {
            "marker": {
             "colorbar": {
              "outlinewidth": 0,
              "ticks": ""
             }
            },
            "type": "scatterpolargl"
           }
          ],
          "scatterternary": [
           {
            "marker": {
             "colorbar": {
              "outlinewidth": 0,
              "ticks": ""
             }
            },
            "type": "scatterternary"
           }
          ],
          "surface": [
           {
            "colorbar": {
             "outlinewidth": 0,
             "ticks": ""
            },
            "colorscale": [
             [
              0,
              "#0d0887"
             ],
             [
              0.1111111111111111,
              "#46039f"
             ],
             [
              0.2222222222222222,
              "#7201a8"
             ],
             [
              0.3333333333333333,
              "#9c179e"
             ],
             [
              0.4444444444444444,
              "#bd3786"
             ],
             [
              0.5555555555555556,
              "#d8576b"
             ],
             [
              0.6666666666666666,
              "#ed7953"
             ],
             [
              0.7777777777777778,
              "#fb9f3a"
             ],
             [
              0.8888888888888888,
              "#fdca26"
             ],
             [
              1,
              "#f0f921"
             ]
            ],
            "type": "surface"
           }
          ],
          "table": [
           {
            "cells": {
             "fill": {
              "color": "#EBF0F8"
             },
             "line": {
              "color": "white"
             }
            },
            "header": {
             "fill": {
              "color": "#C8D4E3"
             },
             "line": {
              "color": "white"
             }
            },
            "type": "table"
           }
          ]
         },
         "layout": {
          "annotationdefaults": {
           "arrowcolor": "#2a3f5f",
           "arrowhead": 0,
           "arrowwidth": 1
          },
          "autotypenumbers": "strict",
          "coloraxis": {
           "colorbar": {
            "outlinewidth": 0,
            "ticks": ""
           }
          },
          "colorscale": {
           "diverging": [
            [
             0,
             "#8e0152"
            ],
            [
             0.1,
             "#c51b7d"
            ],
            [
             0.2,
             "#de77ae"
            ],
            [
             0.3,
             "#f1b6da"
            ],
            [
             0.4,
             "#fde0ef"
            ],
            [
             0.5,
             "#f7f7f7"
            ],
            [
             0.6,
             "#e6f5d0"
            ],
            [
             0.7,
             "#b8e186"
            ],
            [
             0.8,
             "#7fbc41"
            ],
            [
             0.9,
             "#4d9221"
            ],
            [
             1,
             "#276419"
            ]
           ],
           "sequential": [
            [
             0,
             "#0d0887"
            ],
            [
             0.1111111111111111,
             "#46039f"
            ],
            [
             0.2222222222222222,
             "#7201a8"
            ],
            [
             0.3333333333333333,
             "#9c179e"
            ],
            [
             0.4444444444444444,
             "#bd3786"
            ],
            [
             0.5555555555555556,
             "#d8576b"
            ],
            [
             0.6666666666666666,
             "#ed7953"
            ],
            [
             0.7777777777777778,
             "#fb9f3a"
            ],
            [
             0.8888888888888888,
             "#fdca26"
            ],
            [
             1,
             "#f0f921"
            ]
           ],
           "sequentialminus": [
            [
             0,
             "#0d0887"
            ],
            [
             0.1111111111111111,
             "#46039f"
            ],
            [
             0.2222222222222222,
             "#7201a8"
            ],
            [
             0.3333333333333333,
             "#9c179e"
            ],
            [
             0.4444444444444444,
             "#bd3786"
            ],
            [
             0.5555555555555556,
             "#d8576b"
            ],
            [
             0.6666666666666666,
             "#ed7953"
            ],
            [
             0.7777777777777778,
             "#fb9f3a"
            ],
            [
             0.8888888888888888,
             "#fdca26"
            ],
            [
             1,
             "#f0f921"
            ]
           ]
          },
          "colorway": [
           "#636efa",
           "#EF553B",
           "#00cc96",
           "#ab63fa",
           "#FFA15A",
           "#19d3f3",
           "#FF6692",
           "#B6E880",
           "#FF97FF",
           "#FECB52"
          ],
          "font": {
           "color": "#2a3f5f"
          },
          "geo": {
           "bgcolor": "white",
           "lakecolor": "white",
           "landcolor": "#E5ECF6",
           "showlakes": true,
           "showland": true,
           "subunitcolor": "white"
          },
          "hoverlabel": {
           "align": "left"
          },
          "hovermode": "closest",
          "mapbox": {
           "style": "light"
          },
          "paper_bgcolor": "white",
          "plot_bgcolor": "#E5ECF6",
          "polar": {
           "angularaxis": {
            "gridcolor": "white",
            "linecolor": "white",
            "ticks": ""
           },
           "bgcolor": "#E5ECF6",
           "radialaxis": {
            "gridcolor": "white",
            "linecolor": "white",
            "ticks": ""
           }
          },
          "scene": {
           "xaxis": {
            "backgroundcolor": "#E5ECF6",
            "gridcolor": "white",
            "gridwidth": 2,
            "linecolor": "white",
            "showbackground": true,
            "ticks": "",
            "zerolinecolor": "white"
           },
           "yaxis": {
            "backgroundcolor": "#E5ECF6",
            "gridcolor": "white",
            "gridwidth": 2,
            "linecolor": "white",
            "showbackground": true,
            "ticks": "",
            "zerolinecolor": "white"
           },
           "zaxis": {
            "backgroundcolor": "#E5ECF6",
            "gridcolor": "white",
            "gridwidth": 2,
            "linecolor": "white",
            "showbackground": true,
            "ticks": "",
            "zerolinecolor": "white"
           }
          },
          "shapedefaults": {
           "line": {
            "color": "#2a3f5f"
           }
          },
          "ternary": {
           "aaxis": {
            "gridcolor": "white",
            "linecolor": "white",
            "ticks": ""
           },
           "baxis": {
            "gridcolor": "white",
            "linecolor": "white",
            "ticks": ""
           },
           "bgcolor": "#E5ECF6",
           "caxis": {
            "gridcolor": "white",
            "linecolor": "white",
            "ticks": ""
           }
          },
          "title": {
           "x": 0.05
          },
          "xaxis": {
           "automargin": true,
           "gridcolor": "white",
           "linecolor": "white",
           "ticks": "",
           "title": {
            "standoff": 15
           },
           "zerolinecolor": "white",
           "zerolinewidth": 2
          },
          "yaxis": {
           "automargin": true,
           "gridcolor": "white",
           "linecolor": "white",
           "ticks": "",
           "title": {
            "standoff": 15
           },
           "zerolinecolor": "white",
           "zerolinewidth": 2
          }
         }
        }
       }
      },
      "text/html": [
       "<div>                            <div id=\"b38fd18b-0a89-4bac-a528-546100e9aecd\" class=\"plotly-graph-div\" style=\"height:525px; width:100%;\"></div>            <script type=\"text/javascript\">                require([\"plotly\"], function(Plotly) {                    window.PLOTLYENV=window.PLOTLYENV || {};                                    if (document.getElementById(\"b38fd18b-0a89-4bac-a528-546100e9aecd\")) {                    Plotly.newPlot(                        \"b38fd18b-0a89-4bac-a528-546100e9aecd\",                        [{\"dimensions\":[{\"label\":\"max_features\",\"values\":[40,40,40,40,\"None\",\"None\",\"None\",\"None\",\"None\",40,\"log2\",\"log2\",\"log2\",\"log2\",\"None\",\"log2\",\"log2\",\"log2\",\"sqrt\",\"log2\"]},{\"label\":\"n_estimators\",\"values\":[300,300,200,100,300,200,100,200,100,100,300,200,200,100,200,200,300,100,100,300]},{\"label\":\"max_depth\",\"values\":[20,\"None\",\"None\",10,\"None\",20,20,10,10,5,20,20,\"None\",\"None\",5,10,10,5,5,5]},{\"label\":\"mean_test_score\",\"values\":[0.998,0.997,0.995,0.975,0.974,0.965,0.95,0.885,0.839,0.768,0.726,0.711,0.708,0.691,0.642,0.617,0.613,0.528,0.528,0.527]}],\"domain\":{\"x\":[0.0,1.0],\"y\":[0.0,1.0]},\"line\":{\"color\":[0.998,0.997,0.995,0.975,0.974,0.965,0.95,0.885,0.839,0.768,0.726,0.711,0.708,0.691,0.642,0.617,0.613,0.528,0.528,0.527],\"coloraxis\":\"coloraxis\"},\"name\":\"\",\"type\":\"parcats\"}],                        {\"template\":{\"data\":{\"bar\":[{\"error_x\":{\"color\":\"#2a3f5f\"},\"error_y\":{\"color\":\"#2a3f5f\"},\"marker\":{\"line\":{\"color\":\"#E5ECF6\",\"width\":0.5},\"pattern\":{\"fillmode\":\"overlay\",\"size\":10,\"solidity\":0.2}},\"type\":\"bar\"}],\"barpolar\":[{\"marker\":{\"line\":{\"color\":\"#E5ECF6\",\"width\":0.5},\"pattern\":{\"fillmode\":\"overlay\",\"size\":10,\"solidity\":0.2}},\"type\":\"barpolar\"}],\"carpet\":[{\"aaxis\":{\"endlinecolor\":\"#2a3f5f\",\"gridcolor\":\"white\",\"linecolor\":\"white\",\"minorgridcolor\":\"white\",\"startlinecolor\":\"#2a3f5f\"},\"baxis\":{\"endlinecolor\":\"#2a3f5f\",\"gridcolor\":\"white\",\"linecolor\":\"white\",\"minorgridcolor\":\"white\",\"startlinecolor\":\"#2a3f5f\"},\"type\":\"carpet\"}],\"choropleth\":[{\"colorbar\":{\"outlinewidth\":0,\"ticks\":\"\"},\"type\":\"choropleth\"}],\"contour\":[{\"colorbar\":{\"outlinewidth\":0,\"ticks\":\"\"},\"colorscale\":[[0.0,\"#0d0887\"],[0.1111111111111111,\"#46039f\"],[0.2222222222222222,\"#7201a8\"],[0.3333333333333333,\"#9c179e\"],[0.4444444444444444,\"#bd3786\"],[0.5555555555555556,\"#d8576b\"],[0.6666666666666666,\"#ed7953\"],[0.7777777777777778,\"#fb9f3a\"],[0.8888888888888888,\"#fdca26\"],[1.0,\"#f0f921\"]],\"type\":\"contour\"}],\"contourcarpet\":[{\"colorbar\":{\"outlinewidth\":0,\"ticks\":\"\"},\"type\":\"contourcarpet\"}],\"heatmap\":[{\"colorbar\":{\"outlinewidth\":0,\"ticks\":\"\"},\"colorscale\":[[0.0,\"#0d0887\"],[0.1111111111111111,\"#46039f\"],[0.2222222222222222,\"#7201a8\"],[0.3333333333333333,\"#9c179e\"],[0.4444444444444444,\"#bd3786\"],[0.5555555555555556,\"#d8576b\"],[0.6666666666666666,\"#ed7953\"],[0.7777777777777778,\"#fb9f3a\"],[0.8888888888888888,\"#fdca26\"],[1.0,\"#f0f921\"]],\"type\":\"heatmap\"}],\"heatmapgl\":[{\"colorbar\":{\"outlinewidth\":0,\"ticks\":\"\"},\"colorscale\":[[0.0,\"#0d0887\"],[0.1111111111111111,\"#46039f\"],[0.2222222222222222,\"#7201a8\"],[0.3333333333333333,\"#9c179e\"],[0.4444444444444444,\"#bd3786\"],[0.5555555555555556,\"#d8576b\"],[0.6666666666666666,\"#ed7953\"],[0.7777777777777778,\"#fb9f3a\"],[0.8888888888888888,\"#fdca26\"],[1.0,\"#f0f921\"]],\"type\":\"heatmapgl\"}],\"histogram\":[{\"marker\":{\"pattern\":{\"fillmode\":\"overlay\",\"size\":10,\"solidity\":0.2}},\"type\":\"histogram\"}],\"histogram2d\":[{\"colorbar\":{\"outlinewidth\":0,\"ticks\":\"\"},\"colorscale\":[[0.0,\"#0d0887\"],[0.1111111111111111,\"#46039f\"],[0.2222222222222222,\"#7201a8\"],[0.3333333333333333,\"#9c179e\"],[0.4444444444444444,\"#bd3786\"],[0.5555555555555556,\"#d8576b\"],[0.6666666666666666,\"#ed7953\"],[0.7777777777777778,\"#fb9f3a\"],[0.8888888888888888,\"#fdca26\"],[1.0,\"#f0f921\"]],\"type\":\"histogram2d\"}],\"histogram2dcontour\":[{\"colorbar\":{\"outlinewidth\":0,\"ticks\":\"\"},\"colorscale\":[[0.0,\"#0d0887\"],[0.1111111111111111,\"#46039f\"],[0.2222222222222222,\"#7201a8\"],[0.3333333333333333,\"#9c179e\"],[0.4444444444444444,\"#bd3786\"],[0.5555555555555556,\"#d8576b\"],[0.6666666666666666,\"#ed7953\"],[0.7777777777777778,\"#fb9f3a\"],[0.8888888888888888,\"#fdca26\"],[1.0,\"#f0f921\"]],\"type\":\"histogram2dcontour\"}],\"mesh3d\":[{\"colorbar\":{\"outlinewidth\":0,\"ticks\":\"\"},\"type\":\"mesh3d\"}],\"parcoords\":[{\"line\":{\"colorbar\":{\"outlinewidth\":0,\"ticks\":\"\"}},\"type\":\"parcoords\"}],\"pie\":[{\"automargin\":true,\"type\":\"pie\"}],\"scatter\":[{\"marker\":{\"colorbar\":{\"outlinewidth\":0,\"ticks\":\"\"}},\"type\":\"scatter\"}],\"scatter3d\":[{\"line\":{\"colorbar\":{\"outlinewidth\":0,\"ticks\":\"\"}},\"marker\":{\"colorbar\":{\"outlinewidth\":0,\"ticks\":\"\"}},\"type\":\"scatter3d\"}],\"scattercarpet\":[{\"marker\":{\"colorbar\":{\"outlinewidth\":0,\"ticks\":\"\"}},\"type\":\"scattercarpet\"}],\"scattergeo\":[{\"marker\":{\"colorbar\":{\"outlinewidth\":0,\"ticks\":\"\"}},\"type\":\"scattergeo\"}],\"scattergl\":[{\"marker\":{\"colorbar\":{\"outlinewidth\":0,\"ticks\":\"\"}},\"type\":\"scattergl\"}],\"scattermapbox\":[{\"marker\":{\"colorbar\":{\"outlinewidth\":0,\"ticks\":\"\"}},\"type\":\"scattermapbox\"}],\"scatterpolar\":[{\"marker\":{\"colorbar\":{\"outlinewidth\":0,\"ticks\":\"\"}},\"type\":\"scatterpolar\"}],\"scatterpolargl\":[{\"marker\":{\"colorbar\":{\"outlinewidth\":0,\"ticks\":\"\"}},\"type\":\"scatterpolargl\"}],\"scatterternary\":[{\"marker\":{\"colorbar\":{\"outlinewidth\":0,\"ticks\":\"\"}},\"type\":\"scatterternary\"}],\"surface\":[{\"colorbar\":{\"outlinewidth\":0,\"ticks\":\"\"},\"colorscale\":[[0.0,\"#0d0887\"],[0.1111111111111111,\"#46039f\"],[0.2222222222222222,\"#7201a8\"],[0.3333333333333333,\"#9c179e\"],[0.4444444444444444,\"#bd3786\"],[0.5555555555555556,\"#d8576b\"],[0.6666666666666666,\"#ed7953\"],[0.7777777777777778,\"#fb9f3a\"],[0.8888888888888888,\"#fdca26\"],[1.0,\"#f0f921\"]],\"type\":\"surface\"}],\"table\":[{\"cells\":{\"fill\":{\"color\":\"#EBF0F8\"},\"line\":{\"color\":\"white\"}},\"header\":{\"fill\":{\"color\":\"#C8D4E3\"},\"line\":{\"color\":\"white\"}},\"type\":\"table\"}]},\"layout\":{\"annotationdefaults\":{\"arrowcolor\":\"#2a3f5f\",\"arrowhead\":0,\"arrowwidth\":1},\"autotypenumbers\":\"strict\",\"coloraxis\":{\"colorbar\":{\"outlinewidth\":0,\"ticks\":\"\"}},\"colorscale\":{\"diverging\":[[0,\"#8e0152\"],[0.1,\"#c51b7d\"],[0.2,\"#de77ae\"],[0.3,\"#f1b6da\"],[0.4,\"#fde0ef\"],[0.5,\"#f7f7f7\"],[0.6,\"#e6f5d0\"],[0.7,\"#b8e186\"],[0.8,\"#7fbc41\"],[0.9,\"#4d9221\"],[1,\"#276419\"]],\"sequential\":[[0.0,\"#0d0887\"],[0.1111111111111111,\"#46039f\"],[0.2222222222222222,\"#7201a8\"],[0.3333333333333333,\"#9c179e\"],[0.4444444444444444,\"#bd3786\"],[0.5555555555555556,\"#d8576b\"],[0.6666666666666666,\"#ed7953\"],[0.7777777777777778,\"#fb9f3a\"],[0.8888888888888888,\"#fdca26\"],[1.0,\"#f0f921\"]],\"sequentialminus\":[[0.0,\"#0d0887\"],[0.1111111111111111,\"#46039f\"],[0.2222222222222222,\"#7201a8\"],[0.3333333333333333,\"#9c179e\"],[0.4444444444444444,\"#bd3786\"],[0.5555555555555556,\"#d8576b\"],[0.6666666666666666,\"#ed7953\"],[0.7777777777777778,\"#fb9f3a\"],[0.8888888888888888,\"#fdca26\"],[1.0,\"#f0f921\"]]},\"colorway\":[\"#636efa\",\"#EF553B\",\"#00cc96\",\"#ab63fa\",\"#FFA15A\",\"#19d3f3\",\"#FF6692\",\"#B6E880\",\"#FF97FF\",\"#FECB52\"],\"font\":{\"color\":\"#2a3f5f\"},\"geo\":{\"bgcolor\":\"white\",\"lakecolor\":\"white\",\"landcolor\":\"#E5ECF6\",\"showlakes\":true,\"showland\":true,\"subunitcolor\":\"white\"},\"hoverlabel\":{\"align\":\"left\"},\"hovermode\":\"closest\",\"mapbox\":{\"style\":\"light\"},\"paper_bgcolor\":\"white\",\"plot_bgcolor\":\"#E5ECF6\",\"polar\":{\"angularaxis\":{\"gridcolor\":\"white\",\"linecolor\":\"white\",\"ticks\":\"\"},\"bgcolor\":\"#E5ECF6\",\"radialaxis\":{\"gridcolor\":\"white\",\"linecolor\":\"white\",\"ticks\":\"\"}},\"scene\":{\"xaxis\":{\"backgroundcolor\":\"#E5ECF6\",\"gridcolor\":\"white\",\"gridwidth\":2,\"linecolor\":\"white\",\"showbackground\":true,\"ticks\":\"\",\"zerolinecolor\":\"white\"},\"yaxis\":{\"backgroundcolor\":\"#E5ECF6\",\"gridcolor\":\"white\",\"gridwidth\":2,\"linecolor\":\"white\",\"showbackground\":true,\"ticks\":\"\",\"zerolinecolor\":\"white\"},\"zaxis\":{\"backgroundcolor\":\"#E5ECF6\",\"gridcolor\":\"white\",\"gridwidth\":2,\"linecolor\":\"white\",\"showbackground\":true,\"ticks\":\"\",\"zerolinecolor\":\"white\"}},\"shapedefaults\":{\"line\":{\"color\":\"#2a3f5f\"}},\"ternary\":{\"aaxis\":{\"gridcolor\":\"white\",\"linecolor\":\"white\",\"ticks\":\"\"},\"baxis\":{\"gridcolor\":\"white\",\"linecolor\":\"white\",\"ticks\":\"\"},\"bgcolor\":\"#E5ECF6\",\"caxis\":{\"gridcolor\":\"white\",\"linecolor\":\"white\",\"ticks\":\"\"}},\"title\":{\"x\":0.05},\"xaxis\":{\"automargin\":true,\"gridcolor\":\"white\",\"linecolor\":\"white\",\"ticks\":\"\",\"title\":{\"standoff\":15},\"zerolinecolor\":\"white\",\"zerolinewidth\":2},\"yaxis\":{\"automargin\":true,\"gridcolor\":\"white\",\"linecolor\":\"white\",\"ticks\":\"\",\"title\":{\"standoff\":15},\"zerolinecolor\":\"white\",\"zerolinewidth\":2}}},\"coloraxis\":{\"colorbar\":{\"title\":{\"text\":\"mean_test_score\"}},\"colorscale\":[[0.0,\"#0d0887\"],[0.1111111111111111,\"#46039f\"],[0.2222222222222222,\"#7201a8\"],[0.3333333333333333,\"#9c179e\"],[0.4444444444444444,\"#bd3786\"],[0.5555555555555556,\"#d8576b\"],[0.6666666666666666,\"#ed7953\"],[0.7777777777777778,\"#fb9f3a\"],[0.8888888888888888,\"#fdca26\"],[1.0,\"#f0f921\"]]},\"legend\":{\"tracegroupgap\":0},\"margin\":{\"t\":60}},                        {\"responsive\": true}                    ).then(function(){\n",
       "                            \n",
       "var gd = document.getElementById('b38fd18b-0a89-4bac-a528-546100e9aecd');\n",
       "var x = new MutationObserver(function (mutations, observer) {{\n",
       "        var display = window.getComputedStyle(gd).display;\n",
       "        if (!display || display === 'none') {{\n",
       "            console.log([gd, 'removed!']);\n",
       "            Plotly.purge(gd);\n",
       "            observer.disconnect();\n",
       "        }}\n",
       "}});\n",
       "\n",
       "// Listen for the removal of the full notebook cells\n",
       "var notebookContainer = gd.closest('#notebook-container');\n",
       "if (notebookContainer) {{\n",
       "    x.observe(notebookContainer, {childList: true});\n",
       "}}\n",
       "\n",
       "// Listen for the clearing of the current output cell\n",
       "var outputEl = gd.closest('.output');\n",
       "if (outputEl) {{\n",
       "    x.observe(outputEl, {childList: true});\n",
       "}}\n",
       "\n",
       "                        })                };                });            </script>        </div>"
      ]
     },
     "metadata": {},
     "output_type": "display_data"
    }
   ],
   "source": [
    "px.parallel_categories(\n",
    "    df_cv_of.iloc[:,:-1],\n",
    "    color='mean_test_score'\n",
    ")"
   ]
  },
  {
   "cell_type": "markdown",
   "metadata": {},
   "source": [
    "### Appendix\n",
    "The actual values used to generate the above plots"
   ]
  },
  {
   "cell_type": "code",
   "execution_count": 25,
   "metadata": {},
   "outputs": [
    {
     "data": {
      "text/html": [
       "<style type=\"text/css\">\n",
       "#T_16f9d_row0_col0 {\n",
       "  background-color: #e9f0f4;\n",
       "  color: #000000;\n",
       "}\n",
       "#T_16f9d_row1_col0, #T_16f9d_row5_col0 {\n",
       "  background-color: #f8f3f0;\n",
       "  color: #000000;\n",
       "}\n",
       "#T_16f9d_row2_col0 {\n",
       "  background-color: #fae8de;\n",
       "  color: #000000;\n",
       "}\n",
       "#T_16f9d_row3_col0 {\n",
       "  background-color: #f0f4f6;\n",
       "  color: #000000;\n",
       "}\n",
       "#T_16f9d_row4_col0 {\n",
       "  background-color: #f9eee7;\n",
       "  color: #000000;\n",
       "}\n",
       "#T_16f9d_row6_col0 {\n",
       "  background-color: #f5a886;\n",
       "  color: #000000;\n",
       "}\n",
       "#T_16f9d_row7_col0 {\n",
       "  background-color: #d35a4a;\n",
       "  color: #f1f1f1;\n",
       "}\n",
       "#T_16f9d_row8_col0 {\n",
       "  background-color: #f9ede5;\n",
       "  color: #000000;\n",
       "}\n",
       "</style>\n",
       "<table id=\"T_16f9d\">\n",
       "  <thead>\n",
       "    <tr>\n",
       "      <th class=\"blank\" >&nbsp;</th>\n",
       "      <th class=\"blank\" >&nbsp;</th>\n",
       "      <th class=\"blank\" >&nbsp;</th>\n",
       "      <th class=\"blank level0\" >&nbsp;</th>\n",
       "      <th id=\"T_16f9d_level0_col0\" class=\"col_heading level0 col0\" >delta</th>\n",
       "    </tr>\n",
       "    <tr>\n",
       "      <th class=\"index_name level0\" >dataset</th>\n",
       "      <th class=\"index_name level1\" >n_sample</th>\n",
       "      <th class=\"index_name level2\" >max_feature</th>\n",
       "      <th class=\"index_name level3\" >max_depth</th>\n",
       "      <th class=\"blank col0\" >&nbsp;</th>\n",
       "    </tr>\n",
       "  </thead>\n",
       "  <tbody>\n",
       "    <tr>\n",
       "      <th id=\"T_16f9d_level0_row0\" class=\"row_heading level0 row0\" rowspan=\"9\">sparse_parity</th>\n",
       "      <th id=\"T_16f9d_level1_row0\" class=\"row_heading level1 row0\" rowspan=\"3\">100</th>\n",
       "      <th id=\"T_16f9d_level2_row0\" class=\"row_heading level2 row0\" >20</th>\n",
       "      <th id=\"T_16f9d_level3_row0\" class=\"row_heading level3 row0\" >10</th>\n",
       "      <td id=\"T_16f9d_row0_col0\" class=\"data row0 col0\" >-0.030006</td>\n",
       "    </tr>\n",
       "    <tr>\n",
       "      <th id=\"T_16f9d_level2_row1\" class=\"row_heading level2 row1\" >40</th>\n",
       "      <th id=\"T_16f9d_level3_row1\" class=\"row_heading level3 row1\" >10</th>\n",
       "      <td id=\"T_16f9d_row1_col0\" class=\"data row1 col0\" >0.009507</td>\n",
       "    </tr>\n",
       "    <tr>\n",
       "      <th id=\"T_16f9d_level2_row2\" class=\"row_heading level2 row2\" >sqrt</th>\n",
       "      <th id=\"T_16f9d_level3_row2\" class=\"row_heading level3 row2\" >10</th>\n",
       "      <td id=\"T_16f9d_row2_col0\" class=\"data row2 col0\" >0.040701</td>\n",
       "    </tr>\n",
       "    <tr>\n",
       "      <th id=\"T_16f9d_level1_row3\" class=\"row_heading level1 row3\" rowspan=\"3\">1000</th>\n",
       "      <th id=\"T_16f9d_level2_row3\" class=\"row_heading level2 row3\" >20</th>\n",
       "      <th id=\"T_16f9d_level3_row3\" class=\"row_heading level3 row3\" >10</th>\n",
       "      <td id=\"T_16f9d_row3_col0\" class=\"data row3 col0\" >-0.013043</td>\n",
       "    </tr>\n",
       "    <tr>\n",
       "      <th id=\"T_16f9d_level2_row4\" class=\"row_heading level2 row4\" >40</th>\n",
       "      <th id=\"T_16f9d_level3_row4\" class=\"row_heading level3 row4\" >10</th>\n",
       "      <td id=\"T_16f9d_row4_col0\" class=\"data row4 col0\" >0.027995</td>\n",
       "    </tr>\n",
       "    <tr>\n",
       "      <th id=\"T_16f9d_level2_row5\" class=\"row_heading level2 row5\" >sqrt</th>\n",
       "      <th id=\"T_16f9d_level3_row5\" class=\"row_heading level3 row5\" >10</th>\n",
       "      <td id=\"T_16f9d_row5_col0\" class=\"data row5 col0\" >0.011991</td>\n",
       "    </tr>\n",
       "    <tr>\n",
       "      <th id=\"T_16f9d_level1_row6\" class=\"row_heading level1 row6\" rowspan=\"3\">10000</th>\n",
       "      <th id=\"T_16f9d_level2_row6\" class=\"row_heading level2 row6\" >20</th>\n",
       "      <th id=\"T_16f9d_level3_row6\" class=\"row_heading level3 row6\" >10</th>\n",
       "      <td id=\"T_16f9d_row6_col0\" class=\"data row6 col0\" >0.153195</td>\n",
       "    </tr>\n",
       "    <tr>\n",
       "      <th id=\"T_16f9d_level2_row7\" class=\"row_heading level2 row7\" >40</th>\n",
       "      <th id=\"T_16f9d_level3_row7\" class=\"row_heading level3 row7\" >10</th>\n",
       "      <td id=\"T_16f9d_row7_col0\" class=\"data row7 col0\" >0.244497</td>\n",
       "    </tr>\n",
       "    <tr>\n",
       "      <th id=\"T_16f9d_level2_row8\" class=\"row_heading level2 row8\" >sqrt</th>\n",
       "      <th id=\"T_16f9d_level3_row8\" class=\"row_heading level3 row8\" >10</th>\n",
       "      <td id=\"T_16f9d_row8_col0\" class=\"data row8 col0\" >0.031197</td>\n",
       "    </tr>\n",
       "  </tbody>\n",
       "</table>\n"
      ],
      "text/plain": [
       "<pandas.io.formats.style.Styler at 0x7f188c40bb50>"
      ]
     },
     "execution_count": 25,
     "metadata": {},
     "output_type": "execute_result"
    }
   ],
   "source": [
    "col_groupby = ['dataset','n_sample','max_feature','max_depth']\n",
    "dff = df2.groupby(col_groupby).mean()\n",
    "dff.style.background_gradient(cmap='RdBu_r', vmin=-0.4, vmax=0.4)"
   ]
  },
  {
   "cell_type": "code",
   "execution_count": 26,
   "metadata": {},
   "outputs": [
    {
     "data": {
      "text/html": [
       "<div>\n",
       "<style scoped>\n",
       "    .dataframe tbody tr th:only-of-type {\n",
       "        vertical-align: middle;\n",
       "    }\n",
       "\n",
       "    .dataframe tbody tr th {\n",
       "        vertical-align: top;\n",
       "    }\n",
       "\n",
       "    .dataframe thead th {\n",
       "        text-align: right;\n",
       "    }\n",
       "</style>\n",
       "<table border=\"1\" class=\"dataframe\">\n",
       "  <thead>\n",
       "    <tr style=\"text-align: right;\">\n",
       "      <th></th>\n",
       "      <th>mean_fit_time</th>\n",
       "      <th>std_fit_time</th>\n",
       "      <th>mean_score_time</th>\n",
       "      <th>std_score_time</th>\n",
       "      <th>n_estimators</th>\n",
       "      <th>max_features</th>\n",
       "      <th>max_depth</th>\n",
       "      <th>params</th>\n",
       "      <th>split0_test_score</th>\n",
       "      <th>split1_test_score</th>\n",
       "      <th>split2_test_score</th>\n",
       "      <th>split3_test_score</th>\n",
       "      <th>split4_test_score</th>\n",
       "      <th>mean_test_score</th>\n",
       "      <th>std_test_score</th>\n",
       "      <th>rank_test_score</th>\n",
       "      <th>clf</th>\n",
       "    </tr>\n",
       "  </thead>\n",
       "  <tbody>\n",
       "    <tr>\n",
       "      <th>0</th>\n",
       "      <td>22.646918</td>\n",
       "      <td>0.885736</td>\n",
       "      <td>0.199471</td>\n",
       "      <td>0.025627</td>\n",
       "      <td>200</td>\n",
       "      <td>None</td>\n",
       "      <td>20</td>\n",
       "      <td>{'n_estimators': 200, 'max_features': None, 'm...</td>\n",
       "      <td>0.9070</td>\n",
       "      <td>0.9105</td>\n",
       "      <td>0.9065</td>\n",
       "      <td>0.8155</td>\n",
       "      <td>0.8135</td>\n",
       "      <td>0.871</td>\n",
       "      <td>0.045831</td>\n",
       "      <td>5</td>\n",
       "      <td>RF</td>\n",
       "    </tr>\n",
       "    <tr>\n",
       "      <th>1</th>\n",
       "      <td>4.663584</td>\n",
       "      <td>0.135863</td>\n",
       "      <td>0.173791</td>\n",
       "      <td>0.001995</td>\n",
       "      <td>200</td>\n",
       "      <td>log2</td>\n",
       "      <td>20</td>\n",
       "      <td>{'n_estimators': 200, 'max_features': 'log2', ...</td>\n",
       "      <td>0.7445</td>\n",
       "      <td>0.7345</td>\n",
       "      <td>0.7460</td>\n",
       "      <td>0.6910</td>\n",
       "      <td>0.6650</td>\n",
       "      <td>0.716</td>\n",
       "      <td>0.032497</td>\n",
       "      <td>13</td>\n",
       "      <td>RF</td>\n",
       "    </tr>\n",
       "    <tr>\n",
       "      <th>2</th>\n",
       "      <td>14.393851</td>\n",
       "      <td>0.917873</td>\n",
       "      <td>0.119577</td>\n",
       "      <td>0.011612</td>\n",
       "      <td>200</td>\n",
       "      <td>None</td>\n",
       "      <td>10</td>\n",
       "      <td>{'n_estimators': 200, 'max_features': None, 'm...</td>\n",
       "      <td>0.7715</td>\n",
       "      <td>0.8415</td>\n",
       "      <td>0.8410</td>\n",
       "      <td>0.6940</td>\n",
       "      <td>0.6820</td>\n",
       "      <td>0.766</td>\n",
       "      <td>0.068696</td>\n",
       "      <td>7</td>\n",
       "      <td>RF</td>\n",
       "    </tr>\n",
       "    <tr>\n",
       "      <th>3</th>\n",
       "      <td>4.244291</td>\n",
       "      <td>0.068494</td>\n",
       "      <td>0.035884</td>\n",
       "      <td>0.000830</td>\n",
       "      <td>100</td>\n",
       "      <td>40</td>\n",
       "      <td>5</td>\n",
       "      <td>{'n_estimators': 100, 'max_features': 40, 'max...</td>\n",
       "      <td>0.5015</td>\n",
       "      <td>0.5415</td>\n",
       "      <td>0.8230</td>\n",
       "      <td>0.5155</td>\n",
       "      <td>0.5070</td>\n",
       "      <td>0.578</td>\n",
       "      <td>0.123415</td>\n",
       "      <td>16</td>\n",
       "      <td>RF</td>\n",
       "    </tr>\n",
       "    <tr>\n",
       "      <th>4</th>\n",
       "      <td>2.845686</td>\n",
       "      <td>0.068876</td>\n",
       "      <td>0.113968</td>\n",
       "      <td>0.003440</td>\n",
       "      <td>100</td>\n",
       "      <td>log2</td>\n",
       "      <td>None</td>\n",
       "      <td>{'n_estimators': 100, 'max_features': 'log2', ...</td>\n",
       "      <td>0.7300</td>\n",
       "      <td>0.7690</td>\n",
       "      <td>0.7385</td>\n",
       "      <td>0.6975</td>\n",
       "      <td>0.6690</td>\n",
       "      <td>0.721</td>\n",
       "      <td>0.034489</td>\n",
       "      <td>12</td>\n",
       "      <td>RF</td>\n",
       "    </tr>\n",
       "    <tr>\n",
       "      <th>5</th>\n",
       "      <td>24.797328</td>\n",
       "      <td>0.812283</td>\n",
       "      <td>0.199115</td>\n",
       "      <td>0.009130</td>\n",
       "      <td>200</td>\n",
       "      <td>40</td>\n",
       "      <td>None</td>\n",
       "      <td>{'n_estimators': 200, 'max_features': 40, 'max...</td>\n",
       "      <td>0.9030</td>\n",
       "      <td>0.9225</td>\n",
       "      <td>0.9165</td>\n",
       "      <td>0.8255</td>\n",
       "      <td>0.8265</td>\n",
       "      <td>0.879</td>\n",
       "      <td>0.043572</td>\n",
       "      <td>3</td>\n",
       "      <td>RF</td>\n",
       "    </tr>\n",
       "    <tr>\n",
       "      <th>6</th>\n",
       "      <td>35.123564</td>\n",
       "      <td>1.569897</td>\n",
       "      <td>0.291191</td>\n",
       "      <td>0.030608</td>\n",
       "      <td>300</td>\n",
       "      <td>40</td>\n",
       "      <td>None</td>\n",
       "      <td>{'n_estimators': 300, 'max_features': 40, 'max...</td>\n",
       "      <td>0.9070</td>\n",
       "      <td>0.9355</td>\n",
       "      <td>0.9310</td>\n",
       "      <td>0.8395</td>\n",
       "      <td>0.8165</td>\n",
       "      <td>0.886</td>\n",
       "      <td>0.048803</td>\n",
       "      <td>1</td>\n",
       "      <td>RF</td>\n",
       "    </tr>\n",
       "    <tr>\n",
       "      <th>7</th>\n",
       "      <td>10.989832</td>\n",
       "      <td>0.224941</td>\n",
       "      <td>0.087425</td>\n",
       "      <td>0.007137</td>\n",
       "      <td>100</td>\n",
       "      <td>None</td>\n",
       "      <td>20</td>\n",
       "      <td>{'n_estimators': 100, 'max_features': None, 'm...</td>\n",
       "      <td>0.8925</td>\n",
       "      <td>0.8780</td>\n",
       "      <td>0.9075</td>\n",
       "      <td>0.8055</td>\n",
       "      <td>0.7580</td>\n",
       "      <td>0.848</td>\n",
       "      <td>0.057142</td>\n",
       "      <td>6</td>\n",
       "      <td>RF</td>\n",
       "    </tr>\n",
       "    <tr>\n",
       "      <th>8</th>\n",
       "      <td>6.762663</td>\n",
       "      <td>0.036905</td>\n",
       "      <td>0.054062</td>\n",
       "      <td>0.001080</td>\n",
       "      <td>100</td>\n",
       "      <td>None</td>\n",
       "      <td>10</td>\n",
       "      <td>{'n_estimators': 100, 'max_features': None, 'm...</td>\n",
       "      <td>0.7910</td>\n",
       "      <td>0.8005</td>\n",
       "      <td>0.8615</td>\n",
       "      <td>0.7150</td>\n",
       "      <td>0.6475</td>\n",
       "      <td>0.763</td>\n",
       "      <td>0.074211</td>\n",
       "      <td>8</td>\n",
       "      <td>RF</td>\n",
       "    </tr>\n",
       "    <tr>\n",
       "      <th>9</th>\n",
       "      <td>5.071598</td>\n",
       "      <td>0.156569</td>\n",
       "      <td>0.195590</td>\n",
       "      <td>0.003029</td>\n",
       "      <td>200</td>\n",
       "      <td>log2</td>\n",
       "      <td>None</td>\n",
       "      <td>{'n_estimators': 200, 'max_features': 'log2', ...</td>\n",
       "      <td>0.7615</td>\n",
       "      <td>0.7740</td>\n",
       "      <td>0.7465</td>\n",
       "      <td>0.7275</td>\n",
       "      <td>0.6865</td>\n",
       "      <td>0.739</td>\n",
       "      <td>0.030580</td>\n",
       "      <td>10</td>\n",
       "      <td>RF</td>\n",
       "    </tr>\n",
       "    <tr>\n",
       "      <th>10</th>\n",
       "      <td>2.907080</td>\n",
       "      <td>0.010351</td>\n",
       "      <td>0.105691</td>\n",
       "      <td>0.000513</td>\n",
       "      <td>200</td>\n",
       "      <td>log2</td>\n",
       "      <td>10</td>\n",
       "      <td>{'n_estimators': 200, 'max_features': 'log2', ...</td>\n",
       "      <td>0.5690</td>\n",
       "      <td>0.6005</td>\n",
       "      <td>0.6810</td>\n",
       "      <td>0.5750</td>\n",
       "      <td>0.5605</td>\n",
       "      <td>0.597</td>\n",
       "      <td>0.043973</td>\n",
       "      <td>14</td>\n",
       "      <td>RF</td>\n",
       "    </tr>\n",
       "    <tr>\n",
       "      <th>11</th>\n",
       "      <td>6.782623</td>\n",
       "      <td>0.083782</td>\n",
       "      <td>0.261828</td>\n",
       "      <td>0.006789</td>\n",
       "      <td>300</td>\n",
       "      <td>log2</td>\n",
       "      <td>20</td>\n",
       "      <td>{'n_estimators': 300, 'max_features': 'log2', ...</td>\n",
       "      <td>0.7325</td>\n",
       "      <td>0.7550</td>\n",
       "      <td>0.7635</td>\n",
       "      <td>0.6990</td>\n",
       "      <td>0.6740</td>\n",
       "      <td>0.725</td>\n",
       "      <td>0.033809</td>\n",
       "      <td>11</td>\n",
       "      <td>RF</td>\n",
       "    </tr>\n",
       "    <tr>\n",
       "      <th>12</th>\n",
       "      <td>0.830565</td>\n",
       "      <td>0.009866</td>\n",
       "      <td>0.031575</td>\n",
       "      <td>0.001210</td>\n",
       "      <td>100</td>\n",
       "      <td>sqrt</td>\n",
       "      <td>5</td>\n",
       "      <td>{'n_estimators': 100, 'max_features': 'sqrt', ...</td>\n",
       "      <td>0.5155</td>\n",
       "      <td>0.5035</td>\n",
       "      <td>0.5505</td>\n",
       "      <td>0.4950</td>\n",
       "      <td>0.5255</td>\n",
       "      <td>0.518</td>\n",
       "      <td>0.019277</td>\n",
       "      <td>18</td>\n",
       "      <td>RF</td>\n",
       "    </tr>\n",
       "    <tr>\n",
       "      <th>13</th>\n",
       "      <td>7.417067</td>\n",
       "      <td>0.033823</td>\n",
       "      <td>0.061158</td>\n",
       "      <td>0.000866</td>\n",
       "      <td>200</td>\n",
       "      <td>None</td>\n",
       "      <td>5</td>\n",
       "      <td>{'n_estimators': 200, 'max_features': None, 'm...</td>\n",
       "      <td>0.5300</td>\n",
       "      <td>0.6120</td>\n",
       "      <td>0.6980</td>\n",
       "      <td>0.5085</td>\n",
       "      <td>0.5280</td>\n",
       "      <td>0.575</td>\n",
       "      <td>0.070928</td>\n",
       "      <td>17</td>\n",
       "      <td>RF</td>\n",
       "    </tr>\n",
       "    <tr>\n",
       "      <th>14</th>\n",
       "      <td>6.745307</td>\n",
       "      <td>0.130055</td>\n",
       "      <td>0.052471</td>\n",
       "      <td>0.000495</td>\n",
       "      <td>100</td>\n",
       "      <td>40</td>\n",
       "      <td>10</td>\n",
       "      <td>{'n_estimators': 100, 'max_features': 40, 'max...</td>\n",
       "      <td>0.7910</td>\n",
       "      <td>0.8005</td>\n",
       "      <td>0.8615</td>\n",
       "      <td>0.7150</td>\n",
       "      <td>0.6475</td>\n",
       "      <td>0.763</td>\n",
       "      <td>0.074211</td>\n",
       "      <td>8</td>\n",
       "      <td>RF</td>\n",
       "    </tr>\n",
       "    <tr>\n",
       "      <th>15</th>\n",
       "      <td>0.819640</td>\n",
       "      <td>0.001341</td>\n",
       "      <td>0.030545</td>\n",
       "      <td>0.000182</td>\n",
       "      <td>100</td>\n",
       "      <td>log2</td>\n",
       "      <td>5</td>\n",
       "      <td>{'n_estimators': 100, 'max_features': 'log2', ...</td>\n",
       "      <td>0.5155</td>\n",
       "      <td>0.5035</td>\n",
       "      <td>0.5505</td>\n",
       "      <td>0.4950</td>\n",
       "      <td>0.5255</td>\n",
       "      <td>0.518</td>\n",
       "      <td>0.019277</td>\n",
       "      <td>18</td>\n",
       "      <td>RF</td>\n",
       "    </tr>\n",
       "    <tr>\n",
       "      <th>16</th>\n",
       "      <td>31.883947</td>\n",
       "      <td>0.613659</td>\n",
       "      <td>0.262197</td>\n",
       "      <td>0.009787</td>\n",
       "      <td>300</td>\n",
       "      <td>40</td>\n",
       "      <td>20</td>\n",
       "      <td>{'n_estimators': 300, 'max_features': 40, 'max...</td>\n",
       "      <td>0.8985</td>\n",
       "      <td>0.9275</td>\n",
       "      <td>0.9260</td>\n",
       "      <td>0.8185</td>\n",
       "      <td>0.7950</td>\n",
       "      <td>0.873</td>\n",
       "      <td>0.055648</td>\n",
       "      <td>4</td>\n",
       "      <td>RF</td>\n",
       "    </tr>\n",
       "    <tr>\n",
       "      <th>17</th>\n",
       "      <td>33.836929</td>\n",
       "      <td>0.797887</td>\n",
       "      <td>0.280317</td>\n",
       "      <td>0.005591</td>\n",
       "      <td>300</td>\n",
       "      <td>None</td>\n",
       "      <td>None</td>\n",
       "      <td>{'n_estimators': 300, 'max_features': None, 'm...</td>\n",
       "      <td>0.9070</td>\n",
       "      <td>0.9355</td>\n",
       "      <td>0.9310</td>\n",
       "      <td>0.8395</td>\n",
       "      <td>0.8165</td>\n",
       "      <td>0.886</td>\n",
       "      <td>0.048803</td>\n",
       "      <td>1</td>\n",
       "      <td>RF</td>\n",
       "    </tr>\n",
       "    <tr>\n",
       "      <th>18</th>\n",
       "      <td>4.622306</td>\n",
       "      <td>0.050076</td>\n",
       "      <td>0.164780</td>\n",
       "      <td>0.001998</td>\n",
       "      <td>300</td>\n",
       "      <td>log2</td>\n",
       "      <td>10</td>\n",
       "      <td>{'n_estimators': 300, 'max_features': 'log2', ...</td>\n",
       "      <td>0.5570</td>\n",
       "      <td>0.6030</td>\n",
       "      <td>0.6470</td>\n",
       "      <td>0.5725</td>\n",
       "      <td>0.5680</td>\n",
       "      <td>0.590</td>\n",
       "      <td>0.032545</td>\n",
       "      <td>15</td>\n",
       "      <td>RF</td>\n",
       "    </tr>\n",
       "    <tr>\n",
       "      <th>19</th>\n",
       "      <td>2.590888</td>\n",
       "      <td>0.012392</td>\n",
       "      <td>0.097611</td>\n",
       "      <td>0.002019</td>\n",
       "      <td>300</td>\n",
       "      <td>log2</td>\n",
       "      <td>5</td>\n",
       "      <td>{'n_estimators': 300, 'max_features': 'log2', ...</td>\n",
       "      <td>0.5080</td>\n",
       "      <td>0.5315</td>\n",
       "      <td>0.5320</td>\n",
       "      <td>0.4890</td>\n",
       "      <td>0.5290</td>\n",
       "      <td>0.518</td>\n",
       "      <td>0.016972</td>\n",
       "      <td>20</td>\n",
       "      <td>RF</td>\n",
       "    </tr>\n",
       "  </tbody>\n",
       "</table>\n",
       "</div>"
      ],
      "text/plain": [
       "    mean_fit_time  std_fit_time  mean_score_time  std_score_time n_estimators  \\\n",
       "0       22.646918      0.885736         0.199471        0.025627          200   \n",
       "1        4.663584      0.135863         0.173791        0.001995          200   \n",
       "2       14.393851      0.917873         0.119577        0.011612          200   \n",
       "3        4.244291      0.068494         0.035884        0.000830          100   \n",
       "4        2.845686      0.068876         0.113968        0.003440          100   \n",
       "5       24.797328      0.812283         0.199115        0.009130          200   \n",
       "6       35.123564      1.569897         0.291191        0.030608          300   \n",
       "7       10.989832      0.224941         0.087425        0.007137          100   \n",
       "8        6.762663      0.036905         0.054062        0.001080          100   \n",
       "9        5.071598      0.156569         0.195590        0.003029          200   \n",
       "10       2.907080      0.010351         0.105691        0.000513          200   \n",
       "11       6.782623      0.083782         0.261828        0.006789          300   \n",
       "12       0.830565      0.009866         0.031575        0.001210          100   \n",
       "13       7.417067      0.033823         0.061158        0.000866          200   \n",
       "14       6.745307      0.130055         0.052471        0.000495          100   \n",
       "15       0.819640      0.001341         0.030545        0.000182          100   \n",
       "16      31.883947      0.613659         0.262197        0.009787          300   \n",
       "17      33.836929      0.797887         0.280317        0.005591          300   \n",
       "18       4.622306      0.050076         0.164780        0.001998          300   \n",
       "19       2.590888      0.012392         0.097611        0.002019          300   \n",
       "\n",
       "   max_features max_depth                                             params  \\\n",
       "0          None        20  {'n_estimators': 200, 'max_features': None, 'm...   \n",
       "1          log2        20  {'n_estimators': 200, 'max_features': 'log2', ...   \n",
       "2          None        10  {'n_estimators': 200, 'max_features': None, 'm...   \n",
       "3            40         5  {'n_estimators': 100, 'max_features': 40, 'max...   \n",
       "4          log2      None  {'n_estimators': 100, 'max_features': 'log2', ...   \n",
       "5            40      None  {'n_estimators': 200, 'max_features': 40, 'max...   \n",
       "6            40      None  {'n_estimators': 300, 'max_features': 40, 'max...   \n",
       "7          None        20  {'n_estimators': 100, 'max_features': None, 'm...   \n",
       "8          None        10  {'n_estimators': 100, 'max_features': None, 'm...   \n",
       "9          log2      None  {'n_estimators': 200, 'max_features': 'log2', ...   \n",
       "10         log2        10  {'n_estimators': 200, 'max_features': 'log2', ...   \n",
       "11         log2        20  {'n_estimators': 300, 'max_features': 'log2', ...   \n",
       "12         sqrt         5  {'n_estimators': 100, 'max_features': 'sqrt', ...   \n",
       "13         None         5  {'n_estimators': 200, 'max_features': None, 'm...   \n",
       "14           40        10  {'n_estimators': 100, 'max_features': 40, 'max...   \n",
       "15         log2         5  {'n_estimators': 100, 'max_features': 'log2', ...   \n",
       "16           40        20  {'n_estimators': 300, 'max_features': 40, 'max...   \n",
       "17         None      None  {'n_estimators': 300, 'max_features': None, 'm...   \n",
       "18         log2        10  {'n_estimators': 300, 'max_features': 'log2', ...   \n",
       "19         log2         5  {'n_estimators': 300, 'max_features': 'log2', ...   \n",
       "\n",
       "    split0_test_score  split1_test_score  split2_test_score  \\\n",
       "0              0.9070             0.9105             0.9065   \n",
       "1              0.7445             0.7345             0.7460   \n",
       "2              0.7715             0.8415             0.8410   \n",
       "3              0.5015             0.5415             0.8230   \n",
       "4              0.7300             0.7690             0.7385   \n",
       "5              0.9030             0.9225             0.9165   \n",
       "6              0.9070             0.9355             0.9310   \n",
       "7              0.8925             0.8780             0.9075   \n",
       "8              0.7910             0.8005             0.8615   \n",
       "9              0.7615             0.7740             0.7465   \n",
       "10             0.5690             0.6005             0.6810   \n",
       "11             0.7325             0.7550             0.7635   \n",
       "12             0.5155             0.5035             0.5505   \n",
       "13             0.5300             0.6120             0.6980   \n",
       "14             0.7910             0.8005             0.8615   \n",
       "15             0.5155             0.5035             0.5505   \n",
       "16             0.8985             0.9275             0.9260   \n",
       "17             0.9070             0.9355             0.9310   \n",
       "18             0.5570             0.6030             0.6470   \n",
       "19             0.5080             0.5315             0.5320   \n",
       "\n",
       "    split3_test_score  split4_test_score  mean_test_score  std_test_score  \\\n",
       "0              0.8155             0.8135            0.871        0.045831   \n",
       "1              0.6910             0.6650            0.716        0.032497   \n",
       "2              0.6940             0.6820            0.766        0.068696   \n",
       "3              0.5155             0.5070            0.578        0.123415   \n",
       "4              0.6975             0.6690            0.721        0.034489   \n",
       "5              0.8255             0.8265            0.879        0.043572   \n",
       "6              0.8395             0.8165            0.886        0.048803   \n",
       "7              0.8055             0.7580            0.848        0.057142   \n",
       "8              0.7150             0.6475            0.763        0.074211   \n",
       "9              0.7275             0.6865            0.739        0.030580   \n",
       "10             0.5750             0.5605            0.597        0.043973   \n",
       "11             0.6990             0.6740            0.725        0.033809   \n",
       "12             0.4950             0.5255            0.518        0.019277   \n",
       "13             0.5085             0.5280            0.575        0.070928   \n",
       "14             0.7150             0.6475            0.763        0.074211   \n",
       "15             0.4950             0.5255            0.518        0.019277   \n",
       "16             0.8185             0.7950            0.873        0.055648   \n",
       "17             0.8395             0.8165            0.886        0.048803   \n",
       "18             0.5725             0.5680            0.590        0.032545   \n",
       "19             0.4890             0.5290            0.518        0.016972   \n",
       "\n",
       "    rank_test_score clf  \n",
       "0                 5  RF  \n",
       "1                13  RF  \n",
       "2                 7  RF  \n",
       "3                16  RF  \n",
       "4                12  RF  \n",
       "5                 3  RF  \n",
       "6                 1  RF  \n",
       "7                 6  RF  \n",
       "8                 8  RF  \n",
       "9                10  RF  \n",
       "10               14  RF  \n",
       "11               11  RF  \n",
       "12               18  RF  \n",
       "13               17  RF  \n",
       "14                8  RF  \n",
       "15               18  RF  \n",
       "16                4  RF  \n",
       "17                1  RF  \n",
       "18               15  RF  \n",
       "19               20  RF  "
      ]
     },
     "execution_count": 26,
     "metadata": {},
     "output_type": "execute_result"
    }
   ],
   "source": [
    "df_cv.query('clf == \"RF\"')"
   ]
  },
  {
   "cell_type": "code",
   "execution_count": 27,
   "metadata": {},
   "outputs": [
    {
     "data": {
      "text/html": [
       "<div>\n",
       "<style scoped>\n",
       "    .dataframe tbody tr th:only-of-type {\n",
       "        vertical-align: middle;\n",
       "    }\n",
       "\n",
       "    .dataframe tbody tr th {\n",
       "        vertical-align: top;\n",
       "    }\n",
       "\n",
       "    .dataframe thead th {\n",
       "        text-align: right;\n",
       "    }\n",
       "</style>\n",
       "<table border=\"1\" class=\"dataframe\">\n",
       "  <thead>\n",
       "    <tr style=\"text-align: right;\">\n",
       "      <th></th>\n",
       "      <th>mean_fit_time</th>\n",
       "      <th>std_fit_time</th>\n",
       "      <th>mean_score_time</th>\n",
       "      <th>std_score_time</th>\n",
       "      <th>n_estimators</th>\n",
       "      <th>max_features</th>\n",
       "      <th>max_depth</th>\n",
       "      <th>params</th>\n",
       "      <th>split0_test_score</th>\n",
       "      <th>split1_test_score</th>\n",
       "      <th>split2_test_score</th>\n",
       "      <th>split3_test_score</th>\n",
       "      <th>split4_test_score</th>\n",
       "      <th>mean_test_score</th>\n",
       "      <th>std_test_score</th>\n",
       "      <th>rank_test_score</th>\n",
       "      <th>clf</th>\n",
       "    </tr>\n",
       "  </thead>\n",
       "  <tbody>\n",
       "    <tr>\n",
       "      <th>20</th>\n",
       "      <td>14.524053</td>\n",
       "      <td>0.149707</td>\n",
       "      <td>0.176216</td>\n",
       "      <td>0.002413</td>\n",
       "      <td>200</td>\n",
       "      <td>None</td>\n",
       "      <td>20</td>\n",
       "      <td>{'n_estimators': 200, 'max_features': None, 'm...</td>\n",
       "      <td>0.9750</td>\n",
       "      <td>0.9545</td>\n",
       "      <td>0.9735</td>\n",
       "      <td>0.9515</td>\n",
       "      <td>0.9690</td>\n",
       "      <td>0.965</td>\n",
       "      <td>0.009801</td>\n",
       "      <td>6</td>\n",
       "      <td>OF</td>\n",
       "    </tr>\n",
       "    <tr>\n",
       "      <th>21</th>\n",
       "      <td>3.630349</td>\n",
       "      <td>0.025165</td>\n",
       "      <td>0.189726</td>\n",
       "      <td>0.000436</td>\n",
       "      <td>200</td>\n",
       "      <td>log2</td>\n",
       "      <td>20</td>\n",
       "      <td>{'n_estimators': 200, 'max_features': 'log2', ...</td>\n",
       "      <td>0.7205</td>\n",
       "      <td>0.7350</td>\n",
       "      <td>0.6935</td>\n",
       "      <td>0.7030</td>\n",
       "      <td>0.7010</td>\n",
       "      <td>0.711</td>\n",
       "      <td>0.015071</td>\n",
       "      <td>12</td>\n",
       "      <td>OF</td>\n",
       "    </tr>\n",
       "    <tr>\n",
       "      <th>22</th>\n",
       "      <td>9.495841</td>\n",
       "      <td>0.036798</td>\n",
       "      <td>0.112520</td>\n",
       "      <td>0.001209</td>\n",
       "      <td>200</td>\n",
       "      <td>None</td>\n",
       "      <td>10</td>\n",
       "      <td>{'n_estimators': 200, 'max_features': None, 'm...</td>\n",
       "      <td>0.8955</td>\n",
       "      <td>0.8605</td>\n",
       "      <td>0.9270</td>\n",
       "      <td>0.8690</td>\n",
       "      <td>0.8725</td>\n",
       "      <td>0.885</td>\n",
       "      <td>0.024028</td>\n",
       "      <td>8</td>\n",
       "      <td>OF</td>\n",
       "    </tr>\n",
       "    <tr>\n",
       "      <th>23</th>\n",
       "      <td>4.789607</td>\n",
       "      <td>0.020747</td>\n",
       "      <td>0.033835</td>\n",
       "      <td>0.001132</td>\n",
       "      <td>100</td>\n",
       "      <td>40</td>\n",
       "      <td>5</td>\n",
       "      <td>{'n_estimators': 100, 'max_features': 40, 'max...</td>\n",
       "      <td>0.7315</td>\n",
       "      <td>0.8925</td>\n",
       "      <td>0.8000</td>\n",
       "      <td>0.7115</td>\n",
       "      <td>0.7040</td>\n",
       "      <td>0.768</td>\n",
       "      <td>0.070915</td>\n",
       "      <td>10</td>\n",
       "      <td>OF</td>\n",
       "    </tr>\n",
       "    <tr>\n",
       "      <th>24</th>\n",
       "      <td>2.042032</td>\n",
       "      <td>0.018980</td>\n",
       "      <td>0.107782</td>\n",
       "      <td>0.001827</td>\n",
       "      <td>100</td>\n",
       "      <td>log2</td>\n",
       "      <td>None</td>\n",
       "      <td>{'n_estimators': 100, 'max_features': 'log2', ...</td>\n",
       "      <td>0.6860</td>\n",
       "      <td>0.6850</td>\n",
       "      <td>0.7105</td>\n",
       "      <td>0.6795</td>\n",
       "      <td>0.6940</td>\n",
       "      <td>0.691</td>\n",
       "      <td>0.010794</td>\n",
       "      <td>14</td>\n",
       "      <td>OF</td>\n",
       "    </tr>\n",
       "    <tr>\n",
       "      <th>25</th>\n",
       "      <td>28.338802</td>\n",
       "      <td>0.639313</td>\n",
       "      <td>0.175820</td>\n",
       "      <td>0.002988</td>\n",
       "      <td>200</td>\n",
       "      <td>40</td>\n",
       "      <td>None</td>\n",
       "      <td>{'n_estimators': 200, 'max_features': 40, 'max...</td>\n",
       "      <td>0.9935</td>\n",
       "      <td>0.9960</td>\n",
       "      <td>0.9955</td>\n",
       "      <td>0.9970</td>\n",
       "      <td>0.9940</td>\n",
       "      <td>0.995</td>\n",
       "      <td>0.001288</td>\n",
       "      <td>3</td>\n",
       "      <td>OF</td>\n",
       "    </tr>\n",
       "    <tr>\n",
       "      <th>26</th>\n",
       "      <td>42.580922</td>\n",
       "      <td>0.817236</td>\n",
       "      <td>0.266496</td>\n",
       "      <td>0.006167</td>\n",
       "      <td>300</td>\n",
       "      <td>40</td>\n",
       "      <td>None</td>\n",
       "      <td>{'n_estimators': 300, 'max_features': 40, 'max...</td>\n",
       "      <td>0.9975</td>\n",
       "      <td>0.9965</td>\n",
       "      <td>0.9965</td>\n",
       "      <td>0.9965</td>\n",
       "      <td>0.9955</td>\n",
       "      <td>0.997</td>\n",
       "      <td>0.000632</td>\n",
       "      <td>2</td>\n",
       "      <td>OF</td>\n",
       "    </tr>\n",
       "    <tr>\n",
       "      <th>27</th>\n",
       "      <td>7.222720</td>\n",
       "      <td>0.102423</td>\n",
       "      <td>0.088841</td>\n",
       "      <td>0.002096</td>\n",
       "      <td>100</td>\n",
       "      <td>None</td>\n",
       "      <td>20</td>\n",
       "      <td>{'n_estimators': 100, 'max_features': None, 'm...</td>\n",
       "      <td>0.9545</td>\n",
       "      <td>0.9330</td>\n",
       "      <td>0.9775</td>\n",
       "      <td>0.9340</td>\n",
       "      <td>0.9510</td>\n",
       "      <td>0.950</td>\n",
       "      <td>0.016263</td>\n",
       "      <td>7</td>\n",
       "      <td>OF</td>\n",
       "    </tr>\n",
       "    <tr>\n",
       "      <th>28</th>\n",
       "      <td>4.804741</td>\n",
       "      <td>0.110578</td>\n",
       "      <td>0.056905</td>\n",
       "      <td>0.000938</td>\n",
       "      <td>100</td>\n",
       "      <td>None</td>\n",
       "      <td>10</td>\n",
       "      <td>{'n_estimators': 100, 'max_features': None, 'm...</td>\n",
       "      <td>0.8140</td>\n",
       "      <td>0.8155</td>\n",
       "      <td>0.9230</td>\n",
       "      <td>0.8370</td>\n",
       "      <td>0.8050</td>\n",
       "      <td>0.839</td>\n",
       "      <td>0.043343</td>\n",
       "      <td>9</td>\n",
       "      <td>OF</td>\n",
       "    </tr>\n",
       "    <tr>\n",
       "      <th>29</th>\n",
       "      <td>4.094753</td>\n",
       "      <td>0.046346</td>\n",
       "      <td>0.212610</td>\n",
       "      <td>0.001701</td>\n",
       "      <td>200</td>\n",
       "      <td>log2</td>\n",
       "      <td>None</td>\n",
       "      <td>{'n_estimators': 200, 'max_features': 'log2', ...</td>\n",
       "      <td>0.7075</td>\n",
       "      <td>0.7125</td>\n",
       "      <td>0.7380</td>\n",
       "      <td>0.6875</td>\n",
       "      <td>0.6950</td>\n",
       "      <td>0.708</td>\n",
       "      <td>0.017376</td>\n",
       "      <td>13</td>\n",
       "      <td>OF</td>\n",
       "    </tr>\n",
       "    <tr>\n",
       "      <th>30</th>\n",
       "      <td>2.291321</td>\n",
       "      <td>0.013527</td>\n",
       "      <td>0.118858</td>\n",
       "      <td>0.006729</td>\n",
       "      <td>200</td>\n",
       "      <td>log2</td>\n",
       "      <td>10</td>\n",
       "      <td>{'n_estimators': 200, 'max_features': 'log2', ...</td>\n",
       "      <td>0.6185</td>\n",
       "      <td>0.6460</td>\n",
       "      <td>0.6145</td>\n",
       "      <td>0.6170</td>\n",
       "      <td>0.5905</td>\n",
       "      <td>0.617</td>\n",
       "      <td>0.017614</td>\n",
       "      <td>16</td>\n",
       "      <td>OF</td>\n",
       "    </tr>\n",
       "    <tr>\n",
       "      <th>31</th>\n",
       "      <td>5.462850</td>\n",
       "      <td>0.040845</td>\n",
       "      <td>0.283085</td>\n",
       "      <td>0.002274</td>\n",
       "      <td>300</td>\n",
       "      <td>log2</td>\n",
       "      <td>20</td>\n",
       "      <td>{'n_estimators': 300, 'max_features': 'log2', ...</td>\n",
       "      <td>0.7270</td>\n",
       "      <td>0.7685</td>\n",
       "      <td>0.7195</td>\n",
       "      <td>0.7010</td>\n",
       "      <td>0.7125</td>\n",
       "      <td>0.726</td>\n",
       "      <td>0.023049</td>\n",
       "      <td>11</td>\n",
       "      <td>OF</td>\n",
       "    </tr>\n",
       "    <tr>\n",
       "      <th>32</th>\n",
       "      <td>0.620241</td>\n",
       "      <td>0.004696</td>\n",
       "      <td>0.033688</td>\n",
       "      <td>0.001071</td>\n",
       "      <td>100</td>\n",
       "      <td>sqrt</td>\n",
       "      <td>5</td>\n",
       "      <td>{'n_estimators': 100, 'max_features': 'sqrt', ...</td>\n",
       "      <td>0.5230</td>\n",
       "      <td>0.5395</td>\n",
       "      <td>0.5240</td>\n",
       "      <td>0.5370</td>\n",
       "      <td>0.5150</td>\n",
       "      <td>0.528</td>\n",
       "      <td>0.009196</td>\n",
       "      <td>18</td>\n",
       "      <td>OF</td>\n",
       "    </tr>\n",
       "    <tr>\n",
       "      <th>33</th>\n",
       "      <td>4.976560</td>\n",
       "      <td>0.019006</td>\n",
       "      <td>0.065367</td>\n",
       "      <td>0.000670</td>\n",
       "      <td>200</td>\n",
       "      <td>None</td>\n",
       "      <td>5</td>\n",
       "      <td>{'n_estimators': 200, 'max_features': None, 'm...</td>\n",
       "      <td>0.6615</td>\n",
       "      <td>0.6170</td>\n",
       "      <td>0.6740</td>\n",
       "      <td>0.6295</td>\n",
       "      <td>0.6280</td>\n",
       "      <td>0.642</td>\n",
       "      <td>0.021824</td>\n",
       "      <td>15</td>\n",
       "      <td>OF</td>\n",
       "    </tr>\n",
       "    <tr>\n",
       "      <th>34</th>\n",
       "      <td>9.147454</td>\n",
       "      <td>0.042079</td>\n",
       "      <td>0.057447</td>\n",
       "      <td>0.002155</td>\n",
       "      <td>100</td>\n",
       "      <td>40</td>\n",
       "      <td>10</td>\n",
       "      <td>{'n_estimators': 100, 'max_features': 40, 'max...</td>\n",
       "      <td>0.9790</td>\n",
       "      <td>0.9870</td>\n",
       "      <td>0.9845</td>\n",
       "      <td>0.9680</td>\n",
       "      <td>0.9560</td>\n",
       "      <td>0.975</td>\n",
       "      <td>0.011491</td>\n",
       "      <td>4</td>\n",
       "      <td>OF</td>\n",
       "    </tr>\n",
       "    <tr>\n",
       "      <th>35</th>\n",
       "      <td>0.622572</td>\n",
       "      <td>0.006288</td>\n",
       "      <td>0.033340</td>\n",
       "      <td>0.001243</td>\n",
       "      <td>100</td>\n",
       "      <td>log2</td>\n",
       "      <td>5</td>\n",
       "      <td>{'n_estimators': 100, 'max_features': 'log2', ...</td>\n",
       "      <td>0.5230</td>\n",
       "      <td>0.5395</td>\n",
       "      <td>0.5240</td>\n",
       "      <td>0.5370</td>\n",
       "      <td>0.5150</td>\n",
       "      <td>0.528</td>\n",
       "      <td>0.009196</td>\n",
       "      <td>18</td>\n",
       "      <td>OF</td>\n",
       "    </tr>\n",
       "    <tr>\n",
       "      <th>36</th>\n",
       "      <td>41.118029</td>\n",
       "      <td>0.693219</td>\n",
       "      <td>0.252448</td>\n",
       "      <td>0.004869</td>\n",
       "      <td>300</td>\n",
       "      <td>40</td>\n",
       "      <td>20</td>\n",
       "      <td>{'n_estimators': 300, 'max_features': 40, 'max...</td>\n",
       "      <td>0.9980</td>\n",
       "      <td>0.9975</td>\n",
       "      <td>0.9985</td>\n",
       "      <td>0.9965</td>\n",
       "      <td>0.9970</td>\n",
       "      <td>0.998</td>\n",
       "      <td>0.000707</td>\n",
       "      <td>1</td>\n",
       "      <td>OF</td>\n",
       "    </tr>\n",
       "    <tr>\n",
       "      <th>37</th>\n",
       "      <td>24.137495</td>\n",
       "      <td>0.175488</td>\n",
       "      <td>0.291414</td>\n",
       "      <td>0.002697</td>\n",
       "      <td>300</td>\n",
       "      <td>None</td>\n",
       "      <td>None</td>\n",
       "      <td>{'n_estimators': 300, 'max_features': None, 'm...</td>\n",
       "      <td>0.9720</td>\n",
       "      <td>0.9740</td>\n",
       "      <td>0.9835</td>\n",
       "      <td>0.9665</td>\n",
       "      <td>0.9740</td>\n",
       "      <td>0.974</td>\n",
       "      <td>0.005486</td>\n",
       "      <td>5</td>\n",
       "      <td>OF</td>\n",
       "    </tr>\n",
       "    <tr>\n",
       "      <th>38</th>\n",
       "      <td>3.494709</td>\n",
       "      <td>0.011453</td>\n",
       "      <td>0.171662</td>\n",
       "      <td>0.001387</td>\n",
       "      <td>300</td>\n",
       "      <td>log2</td>\n",
       "      <td>10</td>\n",
       "      <td>{'n_estimators': 300, 'max_features': 'log2', ...</td>\n",
       "      <td>0.6080</td>\n",
       "      <td>0.6465</td>\n",
       "      <td>0.6115</td>\n",
       "      <td>0.6085</td>\n",
       "      <td>0.5920</td>\n",
       "      <td>0.613</td>\n",
       "      <td>0.017946</td>\n",
       "      <td>17</td>\n",
       "      <td>OF</td>\n",
       "    </tr>\n",
       "    <tr>\n",
       "      <th>39</th>\n",
       "      <td>1.903000</td>\n",
       "      <td>0.009925</td>\n",
       "      <td>0.098612</td>\n",
       "      <td>0.000569</td>\n",
       "      <td>300</td>\n",
       "      <td>log2</td>\n",
       "      <td>5</td>\n",
       "      <td>{'n_estimators': 300, 'max_features': 'log2', ...</td>\n",
       "      <td>0.5265</td>\n",
       "      <td>0.5405</td>\n",
       "      <td>0.5140</td>\n",
       "      <td>0.5220</td>\n",
       "      <td>0.5320</td>\n",
       "      <td>0.527</td>\n",
       "      <td>0.008961</td>\n",
       "      <td>20</td>\n",
       "      <td>OF</td>\n",
       "    </tr>\n",
       "  </tbody>\n",
       "</table>\n",
       "</div>"
      ],
      "text/plain": [
       "    mean_fit_time  std_fit_time  mean_score_time  std_score_time n_estimators  \\\n",
       "20      14.524053      0.149707         0.176216        0.002413          200   \n",
       "21       3.630349      0.025165         0.189726        0.000436          200   \n",
       "22       9.495841      0.036798         0.112520        0.001209          200   \n",
       "23       4.789607      0.020747         0.033835        0.001132          100   \n",
       "24       2.042032      0.018980         0.107782        0.001827          100   \n",
       "25      28.338802      0.639313         0.175820        0.002988          200   \n",
       "26      42.580922      0.817236         0.266496        0.006167          300   \n",
       "27       7.222720      0.102423         0.088841        0.002096          100   \n",
       "28       4.804741      0.110578         0.056905        0.000938          100   \n",
       "29       4.094753      0.046346         0.212610        0.001701          200   \n",
       "30       2.291321      0.013527         0.118858        0.006729          200   \n",
       "31       5.462850      0.040845         0.283085        0.002274          300   \n",
       "32       0.620241      0.004696         0.033688        0.001071          100   \n",
       "33       4.976560      0.019006         0.065367        0.000670          200   \n",
       "34       9.147454      0.042079         0.057447        0.002155          100   \n",
       "35       0.622572      0.006288         0.033340        0.001243          100   \n",
       "36      41.118029      0.693219         0.252448        0.004869          300   \n",
       "37      24.137495      0.175488         0.291414        0.002697          300   \n",
       "38       3.494709      0.011453         0.171662        0.001387          300   \n",
       "39       1.903000      0.009925         0.098612        0.000569          300   \n",
       "\n",
       "   max_features max_depth                                             params  \\\n",
       "20         None        20  {'n_estimators': 200, 'max_features': None, 'm...   \n",
       "21         log2        20  {'n_estimators': 200, 'max_features': 'log2', ...   \n",
       "22         None        10  {'n_estimators': 200, 'max_features': None, 'm...   \n",
       "23           40         5  {'n_estimators': 100, 'max_features': 40, 'max...   \n",
       "24         log2      None  {'n_estimators': 100, 'max_features': 'log2', ...   \n",
       "25           40      None  {'n_estimators': 200, 'max_features': 40, 'max...   \n",
       "26           40      None  {'n_estimators': 300, 'max_features': 40, 'max...   \n",
       "27         None        20  {'n_estimators': 100, 'max_features': None, 'm...   \n",
       "28         None        10  {'n_estimators': 100, 'max_features': None, 'm...   \n",
       "29         log2      None  {'n_estimators': 200, 'max_features': 'log2', ...   \n",
       "30         log2        10  {'n_estimators': 200, 'max_features': 'log2', ...   \n",
       "31         log2        20  {'n_estimators': 300, 'max_features': 'log2', ...   \n",
       "32         sqrt         5  {'n_estimators': 100, 'max_features': 'sqrt', ...   \n",
       "33         None         5  {'n_estimators': 200, 'max_features': None, 'm...   \n",
       "34           40        10  {'n_estimators': 100, 'max_features': 40, 'max...   \n",
       "35         log2         5  {'n_estimators': 100, 'max_features': 'log2', ...   \n",
       "36           40        20  {'n_estimators': 300, 'max_features': 40, 'max...   \n",
       "37         None      None  {'n_estimators': 300, 'max_features': None, 'm...   \n",
       "38         log2        10  {'n_estimators': 300, 'max_features': 'log2', ...   \n",
       "39         log2         5  {'n_estimators': 300, 'max_features': 'log2', ...   \n",
       "\n",
       "    split0_test_score  split1_test_score  split2_test_score  \\\n",
       "20             0.9750             0.9545             0.9735   \n",
       "21             0.7205             0.7350             0.6935   \n",
       "22             0.8955             0.8605             0.9270   \n",
       "23             0.7315             0.8925             0.8000   \n",
       "24             0.6860             0.6850             0.7105   \n",
       "25             0.9935             0.9960             0.9955   \n",
       "26             0.9975             0.9965             0.9965   \n",
       "27             0.9545             0.9330             0.9775   \n",
       "28             0.8140             0.8155             0.9230   \n",
       "29             0.7075             0.7125             0.7380   \n",
       "30             0.6185             0.6460             0.6145   \n",
       "31             0.7270             0.7685             0.7195   \n",
       "32             0.5230             0.5395             0.5240   \n",
       "33             0.6615             0.6170             0.6740   \n",
       "34             0.9790             0.9870             0.9845   \n",
       "35             0.5230             0.5395             0.5240   \n",
       "36             0.9980             0.9975             0.9985   \n",
       "37             0.9720             0.9740             0.9835   \n",
       "38             0.6080             0.6465             0.6115   \n",
       "39             0.5265             0.5405             0.5140   \n",
       "\n",
       "    split3_test_score  split4_test_score  mean_test_score  std_test_score  \\\n",
       "20             0.9515             0.9690            0.965        0.009801   \n",
       "21             0.7030             0.7010            0.711        0.015071   \n",
       "22             0.8690             0.8725            0.885        0.024028   \n",
       "23             0.7115             0.7040            0.768        0.070915   \n",
       "24             0.6795             0.6940            0.691        0.010794   \n",
       "25             0.9970             0.9940            0.995        0.001288   \n",
       "26             0.9965             0.9955            0.997        0.000632   \n",
       "27             0.9340             0.9510            0.950        0.016263   \n",
       "28             0.8370             0.8050            0.839        0.043343   \n",
       "29             0.6875             0.6950            0.708        0.017376   \n",
       "30             0.6170             0.5905            0.617        0.017614   \n",
       "31             0.7010             0.7125            0.726        0.023049   \n",
       "32             0.5370             0.5150            0.528        0.009196   \n",
       "33             0.6295             0.6280            0.642        0.021824   \n",
       "34             0.9680             0.9560            0.975        0.011491   \n",
       "35             0.5370             0.5150            0.528        0.009196   \n",
       "36             0.9965             0.9970            0.998        0.000707   \n",
       "37             0.9665             0.9740            0.974        0.005486   \n",
       "38             0.6085             0.5920            0.613        0.017946   \n",
       "39             0.5220             0.5320            0.527        0.008961   \n",
       "\n",
       "    rank_test_score clf  \n",
       "20                6  OF  \n",
       "21               12  OF  \n",
       "22                8  OF  \n",
       "23               10  OF  \n",
       "24               14  OF  \n",
       "25                3  OF  \n",
       "26                2  OF  \n",
       "27                7  OF  \n",
       "28                9  OF  \n",
       "29               13  OF  \n",
       "30               16  OF  \n",
       "31               11  OF  \n",
       "32               18  OF  \n",
       "33               15  OF  \n",
       "34                4  OF  \n",
       "35               18  OF  \n",
       "36                1  OF  \n",
       "37                5  OF  \n",
       "38               17  OF  \n",
       "39               20  OF  "
      ]
     },
     "execution_count": 27,
     "metadata": {},
     "output_type": "execute_result"
    }
   ],
   "source": [
    "df_cv.query('clf == \"OF\"')"
   ]
  },
  {
   "cell_type": "code",
   "execution_count": null,
   "metadata": {},
   "outputs": [],
   "source": []
  }
 ],
 "metadata": {
  "kernelspec": {
   "display_name": "Python 3.8.13 ('of')",
   "language": "python",
   "name": "python3"
  },
  "language_info": {
   "codemirror_mode": {
    "name": "ipython",
    "version": 3
   },
   "file_extension": ".py",
   "mimetype": "text/x-python",
   "name": "python",
   "nbconvert_exporter": "python",
   "pygments_lexer": "ipython3",
   "version": "3.8.13"
  },
  "orig_nbformat": 4,
  "vscode": {
   "interpreter": {
    "hash": "93e4dc7d4754bd0325258ba14c14aaf66418ce0b9905eb4643088c0b3d7c1548"
   }
  }
 },
 "nbformat": 4,
 "nbformat_minor": 2
}
